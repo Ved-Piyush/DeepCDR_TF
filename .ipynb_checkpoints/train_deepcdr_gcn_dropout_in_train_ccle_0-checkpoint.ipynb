{
 "cells": [
  {
   "cell_type": "code",
   "execution_count": 1,
   "id": "d935f0c0-e53d-4452-8184-c45b6739ea41",
   "metadata": {},
   "outputs": [
    {
     "name": "stderr",
     "output_type": "stream",
     "text": [
      "2023-07-30 17:42:59.458861: I tensorflow/core/util/util.cc:169] oneDNN custom operations are on. You may see slightly different numerical results due to floating-point round-off errors from different computation orders. To turn them off, set the environment variable `TF_ENABLE_ONEDNN_OPTS=0`.\n"
     ]
    }
   ],
   "source": [
    "import tensorflow as tf\n",
    "import matplotlib.pyplot as plt\n",
    "import improve_utils as iu"
   ]
  },
  {
   "cell_type": "code",
   "execution_count": 2,
   "id": "2f72d05b-8773-4a08-bdc0-f9e283843f02",
   "metadata": {},
   "outputs": [
    {
     "name": "stderr",
     "output_type": "stream",
     "text": [
      "2023-07-30 17:43:03.567404: I tensorflow/core/platform/cpu_feature_guard.cc:193] This TensorFlow binary is optimized with oneAPI Deep Neural Network Library (oneDNN) to use the following CPU instructions in performance-critical operations:  SSE4.1 SSE4.2 AVX AVX2 AVX512F AVX512_VNNI FMA\n",
      "To enable them in other operations, rebuild TensorFlow with the appropriate compiler flags.\n",
      "2023-07-30 17:43:04.439865: I tensorflow/core/common_runtime/gpu/gpu_device.cc:1532] Created device /job:localhost/replica:0/task:0/device:GPU:0 with 78910 MB memory:  -> device: 0, name: NVIDIA A100 80GB PCIe, pci bus id: 0000:31:00.0, compute capability: 8.0\n"
     ]
    },
    {
     "name": "stdout",
     "output_type": "stream",
     "text": [
      "WARNING:tensorflow:No training configuration found in save file, so the model was *not* compiled. Compile it manually.\n"
     ]
    },
    {
     "name": "stderr",
     "output_type": "stream",
     "text": [
      "WARNING:tensorflow:No training configuration found in save file, so the model was *not* compiled. Compile it manually.\n"
     ]
    },
    {
     "name": "stdout",
     "output_type": "stream",
     "text": [
      "WARNING:tensorflow:No training configuration found in save file, so the model was *not* compiled. Compile it manually.\n"
     ]
    },
    {
     "name": "stderr",
     "output_type": "stream",
     "text": [
      "WARNING:tensorflow:No training configuration found in save file, so the model was *not* compiled. Compile it manually.\n"
     ]
    },
    {
     "name": "stdout",
     "output_type": "stream",
     "text": [
      "WARNING:tensorflow:No training configuration found in save file, so the model was *not* compiled. Compile it manually.\n"
     ]
    },
    {
     "name": "stderr",
     "output_type": "stream",
     "text": [
      "WARNING:tensorflow:No training configuration found in save file, so the model was *not* compiled. Compile it manually.\n"
     ]
    },
    {
     "name": "stdout",
     "output_type": "stream",
     "text": [
      "WARNING:tensorflow:No training configuration found in save file, so the model was *not* compiled. Compile it manually.\n"
     ]
    },
    {
     "name": "stderr",
     "output_type": "stream",
     "text": [
      "WARNING:tensorflow:No training configuration found in save file, so the model was *not* compiled. Compile it manually.\n"
     ]
    }
   ],
   "source": [
    "cancer_gen_expr_model = tf.keras.models.load_model(\"Models//cancer_gen_expr_model\")\n",
    "cancer_gen_mut_model = tf.keras.models.load_model(\"Models//cancer_gen_mut_model\")\n",
    "cancer_dna_methy_model = tf.keras.models.load_model(\"Models//cancer_dna_methy_model\")\n",
    "cancer_gen_cnv_model = tf.keras.models.load_model(\"Models//cancer_gen_cnv_model\")"
   ]
  },
  {
   "cell_type": "code",
   "execution_count": 3,
   "id": "830a1414-33b4-4935-bb6c-ad3f4d39b3d0",
   "metadata": {},
   "outputs": [],
   "source": [
    "cancer_gen_expr_model.trainable = False\n",
    "cancer_gen_mut_model.trainable = False\n",
    "cancer_dna_methy_model.trainable = False\n",
    "cancer_gen_cnv_model.trainable = False"
   ]
  },
  {
   "cell_type": "code",
   "execution_count": 4,
   "id": "c42f01f6-1ebf-42c9-b3b1-7f6ea6ec8692",
   "metadata": {},
   "outputs": [],
   "source": [
    "import pickle"
   ]
  },
  {
   "cell_type": "code",
   "execution_count": 5,
   "id": "03c0ec34-f5e7-4a97-96ae-862cc92c2f3d",
   "metadata": {},
   "outputs": [],
   "source": [
    "with open(\"csa_data//drug_features.pickle\", \"rb\") as f:\n",
    "    dict_features = pickle.load(f)"
   ]
  },
  {
   "cell_type": "code",
   "execution_count": 6,
   "id": "e656be49-f050-482b-b0ed-e2cf6b8e9c9d",
   "metadata": {},
   "outputs": [],
   "source": [
    "with open(\"csa_data//norm_adj_mat.pickle\", \"rb\") as f:\n",
    "    dict_adj_mat = pickle.load(f)"
   ]
  },
  {
   "cell_type": "code",
   "execution_count": 7,
   "id": "b7a1fcab-3627-4185-a082-c036f91759fa",
   "metadata": {},
   "outputs": [],
   "source": [
    "with open(\"csa_data//combo_gen_expr_cnv_norm.pickle\", \"rb\") as f:\n",
    "    combo_gen_expr_cnv_norm = pickle.load( f)"
   ]
  },
  {
   "cell_type": "code",
   "execution_count": 8,
   "id": "f527be33-cefb-430e-998d-3d615ea6753e",
   "metadata": {},
   "outputs": [],
   "source": [
    "common_achs = list(combo_gen_expr_cnv_norm.keys())"
   ]
  },
  {
   "cell_type": "code",
   "execution_count": 9,
   "id": "58490bf0-1459-430b-9990-1e0ef80d51e0",
   "metadata": {},
   "outputs": [],
   "source": [
    "# combo_gen_expr_cnv_norm"
   ]
  },
  {
   "cell_type": "code",
   "execution_count": 10,
   "id": "619aa2e9-d05d-4b81-a8cc-1844fda910a6",
   "metadata": {},
   "outputs": [],
   "source": [
    "import pandas as pd"
   ]
  },
  {
   "cell_type": "code",
   "execution_count": 11,
   "id": "046ec9ca-2dcf-4abd-89f7-078fa02660fb",
   "metadata": {},
   "outputs": [],
   "source": [
    "pubchem_to_drugs_df = pd.read_csv('csa_data/1.Drug_listMon Jun 24 09_00_55 2019.csv')"
   ]
  },
  {
   "cell_type": "code",
   "execution_count": 12,
   "id": "10342b28-d621-4591-b9f2-61f02ee60211",
   "metadata": {},
   "outputs": [],
   "source": [
    "# pubchem_to_drugs_df"
   ]
  },
  {
   "cell_type": "code",
   "execution_count": 13,
   "id": "aa74f159-7ff8-4fd3-bd09-c1436f92ed9c",
   "metadata": {},
   "outputs": [],
   "source": [
    "# pubchem_to_drugs_df"
   ]
  },
  {
   "cell_type": "code",
   "execution_count": 14,
   "id": "a4e0228f-f27c-4eef-9735-f6c4930d8804",
   "metadata": {},
   "outputs": [],
   "source": [
    "pubchem_to_drugs_df = pubchem_to_drugs_df[[\"drug_id\", \"PubCHEM\"]]"
   ]
  },
  {
   "cell_type": "code",
   "execution_count": 15,
   "id": "accafc07-af61-46cd-83b3-6f3cc6eba822",
   "metadata": {},
   "outputs": [],
   "source": [
    "import numpy as np"
   ]
  },
  {
   "cell_type": "code",
   "execution_count": 16,
   "id": "242d2cd1-6c8d-4530-91c4-156e63db4560",
   "metadata": {},
   "outputs": [],
   "source": [
    "pubchem_to_drugs_df[\"PubCHEM\"] = [int(val) if str(val).isdigit() else np.nan for val in pubchem_to_drugs_df[\"PubCHEM\"] ]"
   ]
  },
  {
   "cell_type": "code",
   "execution_count": 17,
   "id": "0a4ce169-2cf8-4145-9d8d-f3339097d3cc",
   "metadata": {},
   "outputs": [],
   "source": [
    "pubchem_to_drugs_df = pubchem_to_drugs_df.dropna()"
   ]
  },
  {
   "cell_type": "code",
   "execution_count": 18,
   "id": "d46ae420-d194-44f1-b6fb-558046ecdb67",
   "metadata": {},
   "outputs": [],
   "source": [
    "pubchem_to_drugs_df[\"Drug_ID\"] = pubchem_to_drugs_df[\"drug_id\"].astype(str)"
   ]
  },
  {
   "cell_type": "code",
   "execution_count": 19,
   "id": "1b7893ae-a582-4698-b93b-d0db28dd9208",
   "metadata": {},
   "outputs": [],
   "source": [
    "pubchem_to_drugs_df[\"Drug_ID\"] = [\"Drug_\" + str(i) for i in pubchem_to_drugs_df[\"drug_id\"].values]"
   ]
  },
  {
   "cell_type": "code",
   "execution_count": 20,
   "id": "73f04eaa-360b-425c-b879-f8731a8182ca",
   "metadata": {},
   "outputs": [
    {
     "data": {
      "text/html": [
       "<div>\n",
       "<style scoped>\n",
       "    .dataframe tbody tr th:only-of-type {\n",
       "        vertical-align: middle;\n",
       "    }\n",
       "\n",
       "    .dataframe tbody tr th {\n",
       "        vertical-align: top;\n",
       "    }\n",
       "\n",
       "    .dataframe thead th {\n",
       "        text-align: right;\n",
       "    }\n",
       "</style>\n",
       "<table border=\"1\" class=\"dataframe\">\n",
       "  <thead>\n",
       "    <tr style=\"text-align: right;\">\n",
       "      <th></th>\n",
       "      <th>drug_id</th>\n",
       "      <th>PubCHEM</th>\n",
       "      <th>Drug_ID</th>\n",
       "    </tr>\n",
       "  </thead>\n",
       "  <tbody>\n",
       "    <tr>\n",
       "      <th>0</th>\n",
       "      <td>1242</td>\n",
       "      <td>9863776.0</td>\n",
       "      <td>Drug_1242</td>\n",
       "    </tr>\n",
       "    <tr>\n",
       "      <th>1</th>\n",
       "      <td>179</td>\n",
       "      <td>3385.0</td>\n",
       "      <td>Drug_179</td>\n",
       "    </tr>\n",
       "    <tr>\n",
       "      <th>2</th>\n",
       "      <td>86</td>\n",
       "      <td>10172943.0</td>\n",
       "      <td>Drug_86</td>\n",
       "    </tr>\n",
       "    <tr>\n",
       "      <th>3</th>\n",
       "      <td>55</td>\n",
       "      <td>9549184.0</td>\n",
       "      <td>Drug_55</td>\n",
       "    </tr>\n",
       "    <tr>\n",
       "      <th>4</th>\n",
       "      <td>1001</td>\n",
       "      <td>65110.0</td>\n",
       "      <td>Drug_1001</td>\n",
       "    </tr>\n",
       "  </tbody>\n",
       "</table>\n",
       "</div>"
      ],
      "text/plain": [
       "   drug_id     PubCHEM    Drug_ID\n",
       "0     1242   9863776.0  Drug_1242\n",
       "1      179      3385.0   Drug_179\n",
       "2       86  10172943.0    Drug_86\n",
       "3       55   9549184.0    Drug_55\n",
       "4     1001     65110.0  Drug_1001"
      ]
     },
     "execution_count": 20,
     "metadata": {},
     "output_type": "execute_result"
    }
   ],
   "source": [
    "pubchem_to_drugs_df.head()"
   ]
  },
  {
   "cell_type": "code",
   "execution_count": 21,
   "id": "f451dfce-70b7-4b6d-bfa1-fe7778288af8",
   "metadata": {},
   "outputs": [
    {
     "name": "stdout",
     "output_type": "stream",
     "text": [
      "Response data: (7616, 14)\n",
      "Unique cells:  411\n",
      "Unique drugs:  24\n"
     ]
    },
    {
     "name": "stderr",
     "output_type": "stream",
     "text": [
      "/lustre/work/statgrads/vpiyush2/DeepCDR_TF/improve_utils.py:187: DtypeWarning: Columns (3) have mixed types. Specify dtype option on import or set low_memory=False.\n",
      "  df = pd.read_csv(improve_globals.y_file_path, sep=sep)\n"
     ]
    }
   ],
   "source": [
    "train_keep = iu.load_single_drug_response_data_v2(source = 'CCLE', split_file_name='CCLE_split_0_train.txt', y_col_name='auc')[['improve_sample_id', 'improve_chem_id', 'auc']]"
   ]
  },
  {
   "cell_type": "code",
   "execution_count": 22,
   "id": "1f452126-e0d5-49db-8a0b-217d2ea402fb",
   "metadata": {},
   "outputs": [
    {
     "name": "stdout",
     "output_type": "stream",
     "text": [
      "Response data: (952, 14)\n",
      "Unique cells:  371\n",
      "Unique drugs:  24\n"
     ]
    },
    {
     "name": "stderr",
     "output_type": "stream",
     "text": [
      "/lustre/work/statgrads/vpiyush2/DeepCDR_TF/improve_utils.py:187: DtypeWarning: Columns (3) have mixed types. Specify dtype option on import or set low_memory=False.\n",
      "  df = pd.read_csv(improve_globals.y_file_path, sep=sep)\n"
     ]
    }
   ],
   "source": [
    "test_keep = iu.load_single_drug_response_data_v2(source = 'CCLE', split_file_name='CCLE_split_0_val.txt', y_col_name='auc')[['improve_sample_id', 'improve_chem_id', 'auc']]"
   ]
  },
  {
   "cell_type": "code",
   "execution_count": 23,
   "id": "32b32f9b-3d44-4ae9-bdd7-48d7bfa63dca",
   "metadata": {},
   "outputs": [
    {
     "data": {
      "text/html": [
       "<div>\n",
       "<style scoped>\n",
       "    .dataframe tbody tr th:only-of-type {\n",
       "        vertical-align: middle;\n",
       "    }\n",
       "\n",
       "    .dataframe tbody tr th {\n",
       "        vertical-align: top;\n",
       "    }\n",
       "\n",
       "    .dataframe thead th {\n",
       "        text-align: right;\n",
       "    }\n",
       "</style>\n",
       "<table border=\"1\" class=\"dataframe\">\n",
       "  <thead>\n",
       "    <tr style=\"text-align: right;\">\n",
       "      <th></th>\n",
       "      <th>improve_sample_id</th>\n",
       "      <th>improve_chem_id</th>\n",
       "      <th>auc</th>\n",
       "    </tr>\n",
       "  </thead>\n",
       "  <tbody>\n",
       "    <tr>\n",
       "      <th>0</th>\n",
       "      <td>ACH-000956</td>\n",
       "      <td>Drug_749</td>\n",
       "      <td>0.7153</td>\n",
       "    </tr>\n",
       "    <tr>\n",
       "      <th>1</th>\n",
       "      <td>ACH-000956</td>\n",
       "      <td>Drug_1326</td>\n",
       "      <td>0.9579</td>\n",
       "    </tr>\n",
       "    <tr>\n",
       "      <th>2</th>\n",
       "      <td>ACH-000956</td>\n",
       "      <td>Drug_490</td>\n",
       "      <td>0.4130</td>\n",
       "    </tr>\n",
       "    <tr>\n",
       "      <th>3</th>\n",
       "      <td>ACH-000956</td>\n",
       "      <td>Drug_558</td>\n",
       "      <td>0.8004</td>\n",
       "    </tr>\n",
       "    <tr>\n",
       "      <th>4</th>\n",
       "      <td>ACH-000956</td>\n",
       "      <td>Drug_195</td>\n",
       "      <td>0.5743</td>\n",
       "    </tr>\n",
       "  </tbody>\n",
       "</table>\n",
       "</div>"
      ],
      "text/plain": [
       "  improve_sample_id improve_chem_id     auc\n",
       "0        ACH-000956        Drug_749  0.7153\n",
       "1        ACH-000956       Drug_1326  0.9579\n",
       "2        ACH-000956        Drug_490  0.4130\n",
       "3        ACH-000956        Drug_558  0.8004\n",
       "4        ACH-000956        Drug_195  0.5743"
      ]
     },
     "execution_count": 23,
     "metadata": {},
     "output_type": "execute_result"
    }
   ],
   "source": [
    "train_keep.head()"
   ]
  },
  {
   "cell_type": "code",
   "execution_count": 24,
   "id": "2e69426e-d01c-459e-83b7-6aa11898525f",
   "metadata": {},
   "outputs": [],
   "source": [
    "train_keep.columns = [\"Cell_Line\", \"Drug_ID\", \"AUC\"]"
   ]
  },
  {
   "cell_type": "code",
   "execution_count": 25,
   "id": "7c0c2270-c6a3-4464-b301-0b476f7356cb",
   "metadata": {},
   "outputs": [],
   "source": [
    "test_keep.columns = [\"Cell_Line\", \"Drug_ID\", \"AUC\"]"
   ]
  },
  {
   "cell_type": "code",
   "execution_count": 26,
   "id": "157c45cc-3beb-4cbd-85c6-fc019b418fd4",
   "metadata": {},
   "outputs": [],
   "source": [
    "samp_drug = test_keep[\"Drug_ID\"].unique()[-1]"
   ]
  },
  {
   "cell_type": "code",
   "execution_count": 27,
   "id": "275287ed-d134-4ed5-b886-06ef86406abe",
   "metadata": {},
   "outputs": [],
   "source": [
    "samp_ach = np.array(test_keep[\"Cell_Line\"].unique()[-1])"
   ]
  },
  {
   "cell_type": "code",
   "execution_count": 28,
   "id": "93261660-facd-48d6-a0bc-2ecdc560b725",
   "metadata": {},
   "outputs": [
    {
     "name": "stdout",
     "output_type": "stream",
     "text": [
      "Response data: (951, 14)\n",
      "Unique cells:  371\n",
      "Unique drugs:  24\n"
     ]
    },
    {
     "name": "stderr",
     "output_type": "stream",
     "text": [
      "/lustre/work/statgrads/vpiyush2/DeepCDR_TF/improve_utils.py:187: DtypeWarning: Columns (3) have mixed types. Specify dtype option on import or set low_memory=False.\n",
      "  df = pd.read_csv(improve_globals.y_file_path, sep=sep)\n"
     ]
    }
   ],
   "source": [
    "valid_keep = iu.load_single_drug_response_data_v2(source = 'CCLE', split_file_name='CCLE_split_0_test.txt', y_col_name='auc')[['improve_sample_id', 'improve_chem_id', 'auc']]"
   ]
  },
  {
   "cell_type": "code",
   "execution_count": 29,
   "id": "9b369ea6-6378-4860-9f43-cde80b93aae4",
   "metadata": {},
   "outputs": [],
   "source": [
    "valid_keep.columns = [\"Cell_Line\", \"Drug_ID\", \"AUC\"]"
   ]
  },
  {
   "cell_type": "code",
   "execution_count": 30,
   "id": "46104236-875c-4e16-b113-edc76370154b",
   "metadata": {},
   "outputs": [],
   "source": [
    "# train_keep.to_csv(\"csa_data/dualgcndeepcdr_combo_train.csv\", index = False)"
   ]
  },
  {
   "cell_type": "code",
   "execution_count": 31,
   "id": "d20829f9-e5b9-4b05-b4bc-22758c91ecf7",
   "metadata": {},
   "outputs": [],
   "source": [
    "# test_keep.to_csv(\"csa_data/dualgcndeepcdr_combo_test.csv\", index = False)"
   ]
  },
  {
   "cell_type": "code",
   "execution_count": 32,
   "id": "6ab5d09e-f800-40c3-a524-56e2ade38c20",
   "metadata": {},
   "outputs": [],
   "source": [
    "# train_methy = cancer_dna_methy_model.predict(train_keep1[\"Cell_Line\"].values, batch_size = 512)"
   ]
  },
  {
   "cell_type": "code",
   "execution_count": 33,
   "id": "095183ff-73e0-48cf-b954-22d90195c1f1",
   "metadata": {},
   "outputs": [],
   "source": [
    "# train_methy.shape"
   ]
  },
  {
   "cell_type": "code",
   "execution_count": 34,
   "id": "0c0c3d45-6ff5-4355-bc55-136dee03efb2",
   "metadata": {},
   "outputs": [],
   "source": [
    "train_gcn_feats = []\n",
    "train_adj_list = []\n",
    "for drug_id in train_keep[\"Drug_ID\"].values:\n",
    "    train_gcn_feats.append(dict_features[drug_id])\n",
    "    train_adj_list.append(dict_adj_mat[drug_id])"
   ]
  },
  {
   "cell_type": "code",
   "execution_count": 35,
   "id": "33174902-8c54-4267-8c9a-b6dd34705279",
   "metadata": {},
   "outputs": [],
   "source": [
    "valid_gcn_feats = []\n",
    "valid_adj_list = []\n",
    "for drug_id in test_keep[\"Drug_ID\"].values:\n",
    "    valid_gcn_feats.append(dict_features[drug_id])\n",
    "    valid_adj_list.append(dict_adj_mat[drug_id])"
   ]
  },
  {
   "cell_type": "code",
   "execution_count": 36,
   "id": "9e6a1b52-66de-4044-8502-d14b471d808a",
   "metadata": {},
   "outputs": [],
   "source": [
    "train_gcn_feats = np.array(train_gcn_feats).astype(\"float32\")\n",
    "valid_gcn_feats = np.array(valid_gcn_feats).astype(\"float32\")"
   ]
  },
  {
   "cell_type": "code",
   "execution_count": 37,
   "id": "5fc40b41-fd6f-48f6-966c-03ad15655faa",
   "metadata": {},
   "outputs": [
    {
     "data": {
      "text/plain": [
       "(952, 223, 75)"
      ]
     },
     "execution_count": 37,
     "metadata": {},
     "output_type": "execute_result"
    }
   ],
   "source": [
    "valid_gcn_feats.shape"
   ]
  },
  {
   "cell_type": "code",
   "execution_count": 38,
   "id": "82112c87-88ca-42e4-b555-4105dcea337b",
   "metadata": {},
   "outputs": [],
   "source": [
    "train_adj_list = np.array(train_adj_list).astype(\"float32\")\n",
    "valid_adj_list = np.array(valid_adj_list).astype(\"float32\")"
   ]
  },
  {
   "cell_type": "code",
   "execution_count": 39,
   "id": "862af3b8-8b54-4998-9629-32768cbc05c4",
   "metadata": {},
   "outputs": [
    {
     "data": {
      "text/plain": [
       "(952, 223, 223)"
      ]
     },
     "execution_count": 39,
     "metadata": {},
     "output_type": "execute_result"
    }
   ],
   "source": [
    "valid_adj_list.shape"
   ]
  },
  {
   "cell_type": "code",
   "execution_count": 40,
   "id": "34e1ec7f-a7e7-482d-9aea-d7f586843ab8",
   "metadata": {},
   "outputs": [],
   "source": [
    "# combo_gen_expr_cnv_norm"
   ]
  },
  {
   "cell_type": "code",
   "execution_count": 41,
   "id": "ef5dfaa8-193f-43a9-ab8e-45a618860261",
   "metadata": {},
   "outputs": [],
   "source": [
    "# valid_gcn_feats_omics"
   ]
  },
  {
   "cell_type": "code",
   "execution_count": 42,
   "id": "57053240-71d4-424f-9563-5f1ad2ca9fc5",
   "metadata": {},
   "outputs": [],
   "source": [
    "train_gcn_feats_omics = []\n",
    "for cnc_id in train_keep[\"Cell_Line\"].values:\n",
    "    train_gcn_feats_omics.append(combo_gen_expr_cnv_norm[cnc_id])"
   ]
  },
  {
   "cell_type": "code",
   "execution_count": 43,
   "id": "9a75b99d-f114-4732-81db-8aae444f2eb2",
   "metadata": {},
   "outputs": [],
   "source": [
    "train_gcn_feats_omics = np.array(train_gcn_feats_omics).astype(\"float32\")"
   ]
  },
  {
   "cell_type": "code",
   "execution_count": 44,
   "id": "6fccbf7a-75e2-4267-90a3-f5c3c11aef15",
   "metadata": {},
   "outputs": [
    {
     "data": {
      "text/plain": [
       "(7616, 683, 2)"
      ]
     },
     "execution_count": 44,
     "metadata": {},
     "output_type": "execute_result"
    }
   ],
   "source": [
    "train_gcn_feats_omics.shape"
   ]
  },
  {
   "cell_type": "code",
   "execution_count": 45,
   "id": "04891d9a-2cf4-4832-8894-7d360b5720a8",
   "metadata": {},
   "outputs": [],
   "source": [
    "valid_gcn_feats_omics = []\n",
    "for cnc_id in test_keep[\"Cell_Line\"].values:\n",
    "    valid_gcn_feats_omics.append(combo_gen_expr_cnv_norm[cnc_id])"
   ]
  },
  {
   "cell_type": "code",
   "execution_count": 46,
   "id": "1cc983cc-ea44-4a73-8af0-3d41d21d3399",
   "metadata": {},
   "outputs": [],
   "source": [
    "valid_gcn_feats_omics = np.array(valid_gcn_feats_omics).astype(\"float32\")"
   ]
  },
  {
   "cell_type": "code",
   "execution_count": 47,
   "id": "aece178e-7e25-497c-87b2-29002ab8d122",
   "metadata": {},
   "outputs": [
    {
     "data": {
      "text/plain": [
       "(952, 683, 2)"
      ]
     },
     "execution_count": 47,
     "metadata": {},
     "output_type": "execute_result"
    }
   ],
   "source": [
    "valid_gcn_feats_omics.shape"
   ]
  },
  {
   "cell_type": "code",
   "execution_count": 48,
   "id": "2e5ad87c-fbfb-48c9-8f18-3a75b819a327",
   "metadata": {},
   "outputs": [],
   "source": [
    "# train_methy = cancer_dna_methy_model(train_keep1[\"Cell_Line\"].values)"
   ]
  },
  {
   "cell_type": "code",
   "execution_count": 49,
   "id": "15639817-de3b-458c-ba2c-e4af48d50b13",
   "metadata": {},
   "outputs": [],
   "source": [
    "# cancer_gen_expr_model(samp_ach).numpy().shape[0]"
   ]
  },
  {
   "cell_type": "code",
   "execution_count": 50,
   "id": "090d7937-5ba5-4b31-9062-8b030d4f214d",
   "metadata": {},
   "outputs": [],
   "source": [
    "from tensorflow.keras import backend as K"
   ]
  },
  {
   "cell_type": "code",
   "execution_count": 51,
   "id": "bb7acbc1-8c12-4ecd-9ba8-ec1bd93a96ab",
   "metadata": {},
   "outputs": [],
   "source": [
    "# cancer_gen_expr_model(train_keep1[\"Cell_Line\"].values[:5])"
   ]
  },
  {
   "cell_type": "code",
   "execution_count": 52,
   "id": "3df96e5f-967e-4848-a1ac-8ece364d90ed",
   "metadata": {},
   "outputs": [],
   "source": [
    "training = False\n",
    "dropout1 = 0.20\n",
    "dropout2 = 0.30"
   ]
  },
  {
   "cell_type": "code",
   "execution_count": 53,
   "id": "7540fbcd-3b75-48c1-a694-07b02f50da39",
   "metadata": {},
   "outputs": [],
   "source": [
    "## get the model architecture\n",
    "def deepcdrgcn(training = training, dropout1 = dropout1, dropout2 = dropout2):\n",
    "    \n",
    "    input_gcn_features = tf.keras.layers.Input(shape = (dict_features[samp_drug].shape[0], 75))\n",
    "    input_norm_adj_mat = tf.keras.layers.Input(shape = (dict_adj_mat[samp_drug].shape[0], dict_adj_mat[samp_drug].shape[0]))\n",
    "    mult_1 = tf.keras.layers.Dot(1)([input_norm_adj_mat, input_gcn_features])\n",
    "    dense_layer_gcn = tf.keras.layers.Dense(256, activation = \"relu\")\n",
    "    dense_out = dense_layer_gcn(mult_1)\n",
    "    dense_out = tf.keras.layers.BatchNormalization()(dense_out)\n",
    "    dense_out = tf.keras.layers.Dropout(dropout1)(dense_out, training = training)\n",
    "    mult_2 = tf.keras.layers.Dot(1)([input_norm_adj_mat, dense_out])\n",
    "    dense_layer_gcn = tf.keras.layers.Dense(256, activation = \"relu\")\n",
    "    dense_out = dense_layer_gcn(mult_2)\n",
    "    dense_out = tf.keras.layers.BatchNormalization()(dense_out)\n",
    "    dense_out = tf.keras.layers.Dropout(dropout1)(dense_out, training = training)\n",
    "\n",
    "    dense_layer_gcn = tf.keras.layers.Dense(100, activation = \"relu\")\n",
    "    mult_3 = tf.keras.layers.Dot(1)([input_norm_adj_mat, dense_out])\n",
    "    dense_out = dense_layer_gcn(mult_3)\n",
    "    dense_out = tf.keras.layers.BatchNormalization()(dense_out)\n",
    "    dense_out = tf.keras.layers.Dropout(dropout1)(dense_out, training = training)\n",
    "\n",
    "    dense_out = tf.keras.layers.GlobalAvgPool1D()(dense_out)\n",
    "    \n",
    "    input_gen_expr = tf.keras.layers.Input(shape = (cancer_gen_expr_model(samp_ach).numpy().shape[0],2))\n",
    "    \n",
    "    l1 = tf.keras.layers.Dense(32)(input_gen_expr)\n",
    "    l1 = tf.keras.layers.Dropout(dropout1)(l1, training = training)\n",
    "    l2 = tf.keras.layers.Dense(128)(l1)\n",
    "    l2 = tf.keras.layers.Dropout(dropout1)(l2, training = training)\n",
    "    \n",
    "    dense_layer_gcn1 = tf.keras.layers.Dense(256, activation = \"relu\")\n",
    "    dense_out1 = dense_layer_gcn1(l2)\n",
    "    dense_out1 = tf.keras.layers.BatchNormalization()(dense_out1)\n",
    "    dense_out1 = tf.keras.layers.Dropout(dropout1)(dense_out1, training = training)\n",
    "# mult_21 = tf.keras.layers.Dot(1)([const_input, dense_out1])\n",
    "    dense_layer_gcn1 = tf.keras.layers.Dense(256, activation = \"relu\")\n",
    "    dense_out1 = dense_layer_gcn1(dense_out1)\n",
    "    dense_out1 = tf.keras.layers.BatchNormalization()(dense_out1)\n",
    "    dense_out1 = tf.keras.layers.Dropout(dropout1)(dense_out1, training = training)\n",
    "    dense_layer_gcn1 = tf.keras.layers.Dense(256, activation = \"relu\")\n",
    "    dense_out1 = dense_layer_gcn1(dense_out1)\n",
    "    dense_out1 = tf.keras.layers.BatchNormalization()(dense_out1)\n",
    "    dense_out1 = tf.keras.layers.Dropout(dropout1)(dense_out1, training = training)\n",
    "    dense_layer_gcn1 = tf.keras.layers.Dense(256, activation = \"relu\")\n",
    "    dense_out1 = dense_layer_gcn1(dense_out1)\n",
    "    dense_out1 = tf.keras.layers.BatchNormalization()(dense_out1)\n",
    "    dense_out1 = tf.keras.layers.Dropout(dropout1)(dense_out1, training = training)\n",
    "    dense_out1 = tf.keras.layers.GlobalAvgPool1D()(dense_out1)\n",
    "    \n",
    "    \n",
    "    input_gen_methy1 = tf.keras.layers.Input(shape = (1,), dtype = tf.string)\n",
    "    # cancer_dna_methy_model.trainable\n",
    "    input_gen_methy = cancer_dna_methy_model(input_gen_methy1)\n",
    "    input_gen_methy.trainable = False\n",
    "    gen_methy_layer = tf.keras.layers.Dense(64, activation = \"tanh\")\n",
    "    \n",
    "    gen_methy_emb = gen_methy_layer(input_gen_methy)\n",
    "    gen_methy_emb = tf.keras.layers.BatchNormalization()(gen_methy_emb)\n",
    "    gen_methy_emb = tf.keras.layers.Dropout(dropout1)(gen_methy_emb, training = training)\n",
    "    gen_methy_layer = tf.keras.layers.Dense(64, activation = \"relu\")\n",
    "    gen_methy_emb = gen_methy_layer(gen_methy_emb)\n",
    "    \n",
    "    \n",
    "    input_gen_mut1 = tf.keras.layers.Input(shape = (1,), dtype = tf.string)\n",
    "    input_gen_mut = cancer_gen_mut_model(input_gen_mut1)\n",
    "    input_gen_mut.trainable = False\n",
    "    \n",
    "    reshape_gen_mut = tf.keras.layers.Reshape((1, cancer_gen_mut_model(samp_ach).numpy().shape[0], 1))\n",
    "    reshape_gen_mut = reshape_gen_mut(input_gen_mut)\n",
    "    gen_mut_layer = tf.keras.layers.Conv2D(50, (1, 700), strides=5, activation = \"tanh\")\n",
    "    gen_mut_emb = gen_mut_layer(reshape_gen_mut)\n",
    "    pool_layer = tf.keras.layers.MaxPooling2D((1,5))\n",
    "    pool_out = pool_layer(gen_mut_emb)\n",
    "    gen_mut_layer = tf.keras.layers.Conv2D(30, (1, 5), strides=2, activation = \"relu\")\n",
    "    gen_mut_emb = gen_mut_layer(pool_out)\n",
    "    pool_layer = tf.keras.layers.MaxPooling2D((1,10))\n",
    "    pool_out = pool_layer(gen_mut_emb)\n",
    "    flatten_layer = tf.keras.layers.Flatten()\n",
    "    flatten_out = flatten_layer(pool_out)\n",
    "    all_omics = tf.keras.layers.Concatenate()([gen_methy_emb, flatten_out, dense_out1, dense_out])\n",
    "    x = tf.keras.layers.Dense(300,activation = 'tanh')(all_omics)\n",
    "    x = tf.keras.layers.Dropout(dropout1)(x, training = training)\n",
    "    x = tf.keras.layers.Lambda(lambda x: K.expand_dims(x,axis=-1))(x)\n",
    "    x = tf.keras.layers.Lambda(lambda x: K.expand_dims(x,axis=1))(x)\n",
    "    x = tf.keras.layers.Conv2D(filters=30, kernel_size=(1,150),strides=(1, 1), activation = 'relu',padding='valid')(x)\n",
    "    x = tf.keras.layers.MaxPooling2D(pool_size=(1,2))(x)\n",
    "    x = tf.keras.layers.Conv2D(filters=10, kernel_size=(1,5),strides=(1, 1), activation = 'relu',padding='valid')(x)\n",
    "    x = tf.keras.layers.MaxPooling2D(pool_size=(1,3))(x)\n",
    "    x = tf.keras.layers.Conv2D(filters=5, kernel_size=(1,5),strides=(1, 1), activation = 'relu',padding='valid')(x)\n",
    "    x = tf.keras.layers.MaxPooling2D(pool_size=(1,3))(x)\n",
    "    x = tf.keras.layers.Dropout(dropout1)(x, training = training)\n",
    "    x = tf.keras.layers.Flatten()(x)\n",
    "    x = tf.keras.layers.Dropout(dropout2)(x, training = training)\n",
    "    final_out_layer = tf.keras.layers.Dense(1, activation = \"sigmoid\")\n",
    "    final_out = final_out_layer(x)\n",
    "    simplecdr = tf.keras.models.Model([input_gcn_features, input_norm_adj_mat, input_gen_expr,\n",
    "                                   input_gen_methy1, input_gen_mut1], final_out)\n",
    "    simplecdr.compile(loss = tf.keras.losses.BinaryCrossentropy(), \n",
    "                      # optimizer = tf.keras.optimizers.Adam(lr=1e-3),\n",
    "                    optimizer = tf.keras.optimizers.Adam(lr=0.001, beta_1=0.9, beta_2=0.999, epsilon=None, decay=0.0, amsgrad=False), \n",
    "                    metrics = [tf.keras.metrics.RootMeanSquaredError()])\n",
    "    \n",
    "    return simplecdr"
   ]
  },
  {
   "cell_type": "code",
   "execution_count": 54,
   "id": "63d2cff4-104a-4e23-ae68-a85f8f1536b2",
   "metadata": {},
   "outputs": [
    {
     "name": "stderr",
     "output_type": "stream",
     "text": [
      "/home/statgrads/vpiyush2/.conda/envs/tensorflow-gpu-2.9-custom/lib/python3.9/site-packages/keras/optimizers/optimizer_v2/adam.py:110: UserWarning: The `lr` argument is deprecated, use `learning_rate` instead.\n",
      "  super(Adam, self).__init__(name, **kwargs)\n"
     ]
    }
   ],
   "source": [
    "check = deepcdrgcn(training = training, dropout1 = dropout1, dropout2 = dropout2)"
   ]
  },
  {
   "cell_type": "code",
   "execution_count": 55,
   "id": "ee63bd6e-0eee-460a-9f4e-520730dfcc82",
   "metadata": {},
   "outputs": [
    {
     "name": "stdout",
     "output_type": "stream",
     "text": [
      "Model: \"model\"\n",
      "__________________________________________________________________________________________________\n",
      " Layer (type)                   Output Shape         Param #     Connected to                     \n",
      "==================================================================================================\n",
      " input_3 (InputLayer)           [(None, 683, 2)]     0           []                               \n",
      "                                                                                                  \n",
      " dense_3 (Dense)                (None, 683, 32)      96          ['input_3[0][0]']                \n",
      "                                                                                                  \n",
      " dropout_3 (Dropout)            (None, 683, 32)      0           ['dense_3[0][0]']                \n",
      "                                                                                                  \n",
      " dense_4 (Dense)                (None, 683, 128)     4224        ['dropout_3[0][0]']              \n",
      "                                                                                                  \n",
      " dropout_4 (Dropout)            (None, 683, 128)     0           ['dense_4[0][0]']                \n",
      "                                                                                                  \n",
      " input_2 (InputLayer)           [(None, 223, 223)]   0           []                               \n",
      "                                                                                                  \n",
      " input_1 (InputLayer)           [(None, 223, 75)]    0           []                               \n",
      "                                                                                                  \n",
      " dense_5 (Dense)                (None, 683, 256)     33024       ['dropout_4[0][0]']              \n",
      "                                                                                                  \n",
      " dot (Dot)                      (None, 223, 75)      0           ['input_2[0][0]',                \n",
      "                                                                  'input_1[0][0]']                \n",
      "                                                                                                  \n",
      " batch_normalization_3 (BatchNo  (None, 683, 256)    1024        ['dense_5[0][0]']                \n",
      " rmalization)                                                                                     \n",
      "                                                                                                  \n",
      " dense (Dense)                  (None, 223, 256)     19456       ['dot[0][0]']                    \n",
      "                                                                                                  \n",
      " dropout_5 (Dropout)            (None, 683, 256)     0           ['batch_normalization_3[0][0]']  \n",
      "                                                                                                  \n",
      " batch_normalization (BatchNorm  (None, 223, 256)    1024        ['dense[0][0]']                  \n",
      " alization)                                                                                       \n",
      "                                                                                                  \n",
      " dense_6 (Dense)                (None, 683, 256)     65792       ['dropout_5[0][0]']              \n",
      "                                                                                                  \n",
      " dropout (Dropout)              (None, 223, 256)     0           ['batch_normalization[0][0]']    \n",
      "                                                                                                  \n",
      " batch_normalization_4 (BatchNo  (None, 683, 256)    1024        ['dense_6[0][0]']                \n",
      " rmalization)                                                                                     \n",
      "                                                                                                  \n",
      " dot_1 (Dot)                    (None, 223, 256)     0           ['input_2[0][0]',                \n",
      "                                                                  'dropout[0][0]']                \n",
      "                                                                                                  \n",
      " input_5 (InputLayer)           [(None, 1)]          0           []                               \n",
      "                                                                                                  \n",
      " dropout_6 (Dropout)            (None, 683, 256)     0           ['batch_normalization_4[0][0]']  \n",
      "                                                                                                  \n",
      " dense_1 (Dense)                (None, 223, 256)     65792       ['dot_1[0][0]']                  \n",
      "                                                                                                  \n",
      " model_1 (Functional)           (None, 18739)        19226214    ['input_5[0][0]']                \n",
      "                                                                                                  \n",
      " dense_7 (Dense)                (None, 683, 256)     65792       ['dropout_6[0][0]']              \n",
      "                                                                                                  \n",
      " batch_normalization_1 (BatchNo  (None, 223, 256)    1024        ['dense_1[0][0]']                \n",
      " rmalization)                                                                                     \n",
      "                                                                                                  \n",
      " input_4 (InputLayer)           [(None, 1)]          0           []                               \n",
      "                                                                                                  \n",
      " reshape (Reshape)              (None, 1, 18739, 1)  0           ['model_1[0][0]']                \n",
      "                                                                                                  \n",
      " batch_normalization_5 (BatchNo  (None, 683, 256)    1024        ['dense_7[0][0]']                \n",
      " rmalization)                                                                                     \n",
      "                                                                                                  \n",
      " dropout_1 (Dropout)            (None, 223, 256)     0           ['batch_normalization_1[0][0]']  \n",
      "                                                                                                  \n",
      " model_2 (Functional)           (None, 19606)        16194556    ['input_4[0][0]']                \n",
      "                                                                                                  \n",
      " conv2d (Conv2D)                (None, 1, 3608, 50)  35050       ['reshape[0][0]']                \n",
      "                                                                                                  \n",
      " dropout_7 (Dropout)            (None, 683, 256)     0           ['batch_normalization_5[0][0]']  \n",
      "                                                                                                  \n",
      " dot_2 (Dot)                    (None, 223, 256)     0           ['input_2[0][0]',                \n",
      "                                                                  'dropout_1[0][0]']              \n",
      "                                                                                                  \n",
      " dense_9 (Dense)                (None, 64)           1254848     ['model_2[0][0]']                \n",
      "                                                                                                  \n",
      " max_pooling2d (MaxPooling2D)   (None, 1, 721, 50)   0           ['conv2d[0][0]']                 \n",
      "                                                                                                  \n",
      " dense_8 (Dense)                (None, 683, 256)     65792       ['dropout_7[0][0]']              \n",
      "                                                                                                  \n",
      " dense_2 (Dense)                (None, 223, 100)     25700       ['dot_2[0][0]']                  \n",
      "                                                                                                  \n",
      " batch_normalization_7 (BatchNo  (None, 64)          256         ['dense_9[0][0]']                \n",
      " rmalization)                                                                                     \n",
      "                                                                                                  \n",
      " conv2d_1 (Conv2D)              (None, 1, 359, 30)   7530        ['max_pooling2d[0][0]']          \n",
      "                                                                                                  \n",
      " batch_normalization_6 (BatchNo  (None, 683, 256)    1024        ['dense_8[0][0]']                \n",
      " rmalization)                                                                                     \n",
      "                                                                                                  \n",
      " batch_normalization_2 (BatchNo  (None, 223, 100)    400         ['dense_2[0][0]']                \n",
      " rmalization)                                                                                     \n",
      "                                                                                                  \n",
      " dropout_9 (Dropout)            (None, 64)           0           ['batch_normalization_7[0][0]']  \n",
      "                                                                                                  \n",
      " max_pooling2d_1 (MaxPooling2D)  (None, 1, 35, 30)   0           ['conv2d_1[0][0]']               \n",
      "                                                                                                  \n",
      " dropout_8 (Dropout)            (None, 683, 256)     0           ['batch_normalization_6[0][0]']  \n",
      "                                                                                                  \n",
      " dropout_2 (Dropout)            (None, 223, 100)     0           ['batch_normalization_2[0][0]']  \n",
      "                                                                                                  \n",
      " dense_10 (Dense)               (None, 64)           4160        ['dropout_9[0][0]']              \n",
      "                                                                                                  \n",
      " flatten (Flatten)              (None, 1050)         0           ['max_pooling2d_1[0][0]']        \n",
      "                                                                                                  \n",
      " global_average_pooling1d_1 (Gl  (None, 256)         0           ['dropout_8[0][0]']              \n",
      " obalAveragePooling1D)                                                                            \n",
      "                                                                                                  \n",
      " global_average_pooling1d (Glob  (None, 100)         0           ['dropout_2[0][0]']              \n",
      " alAveragePooling1D)                                                                              \n",
      "                                                                                                  \n",
      " concatenate (Concatenate)      (None, 1470)         0           ['dense_10[0][0]',               \n",
      "                                                                  'flatten[0][0]',                \n",
      "                                                                  'global_average_pooling1d_1[0][0\n",
      "                                                                 ]',                              \n",
      "                                                                  'global_average_pooling1d[0][0]'\n",
      "                                                                 ]                                \n",
      "                                                                                                  \n",
      " dense_11 (Dense)               (None, 300)          441300      ['concatenate[0][0]']            \n",
      "                                                                                                  \n",
      " dropout_10 (Dropout)           (None, 300)          0           ['dense_11[0][0]']               \n",
      "                                                                                                  \n",
      " lambda (Lambda)                (None, 300, 1)       0           ['dropout_10[0][0]']             \n",
      "                                                                                                  \n",
      " lambda_1 (Lambda)              (None, 1, 300, 1)    0           ['lambda[0][0]']                 \n",
      "                                                                                                  \n",
      " conv2d_2 (Conv2D)              (None, 1, 151, 30)   4530        ['lambda_1[0][0]']               \n",
      "                                                                                                  \n",
      " max_pooling2d_2 (MaxPooling2D)  (None, 1, 75, 30)   0           ['conv2d_2[0][0]']               \n",
      "                                                                                                  \n",
      " conv2d_3 (Conv2D)              (None, 1, 71, 10)    1510        ['max_pooling2d_2[0][0]']        \n",
      "                                                                                                  \n",
      " max_pooling2d_3 (MaxPooling2D)  (None, 1, 23, 10)   0           ['conv2d_3[0][0]']               \n",
      "                                                                                                  \n",
      " conv2d_4 (Conv2D)              (None, 1, 19, 5)     255         ['max_pooling2d_3[0][0]']        \n",
      "                                                                                                  \n",
      " max_pooling2d_4 (MaxPooling2D)  (None, 1, 6, 5)     0           ['conv2d_4[0][0]']               \n",
      "                                                                                                  \n",
      " dropout_11 (Dropout)           (None, 1, 6, 5)      0           ['max_pooling2d_4[0][0]']        \n",
      "                                                                                                  \n",
      " flatten_1 (Flatten)            (None, 30)           0           ['dropout_11[0][0]']             \n",
      "                                                                                                  \n",
      " dropout_12 (Dropout)           (None, 30)           0           ['flatten_1[0][0]']              \n",
      "                                                                                                  \n",
      " dense_12 (Dense)               (None, 1)            31          ['dropout_12[0][0]']             \n",
      "                                                                                                  \n",
      "==================================================================================================\n",
      "Total params: 37,522,452\n",
      "Trainable params: 2,098,282\n",
      "Non-trainable params: 35,424,170\n",
      "__________________________________________________________________________________________________\n"
     ]
    }
   ],
   "source": [
    "check.summary()"
   ]
  },
  {
   "cell_type": "code",
   "execution_count": 56,
   "id": "bf32a545-d9e4-4c07-83dd-63adc1b8d041",
   "metadata": {},
   "outputs": [],
   "source": [
    "# [layer.name for layer in check.layers]"
   ]
  },
  {
   "cell_type": "code",
   "execution_count": 57,
   "id": "32293717-bdc5-474c-bb32-a9e487368966",
   "metadata": {},
   "outputs": [
    {
     "data": {
      "image/png": "[encoded data removed]",
      "text/plain": [
       "<Figure size 640x480 with 1 Axes>"
      ]
     },
     "metadata": {},
     "output_type": "display_data"
    }
   ],
   "source": [
    "plt.hist( train_keep[\"AUC\"].values.reshape(-1,1))\n",
    "plt.show()"
   ]
  },
  {
   "cell_type": "code",
   "execution_count": 58,
   "id": "5480e2a4-17b1-4436-8d5f-7ad64d0fc237",
   "metadata": {},
   "outputs": [
    {
     "name": "stdout",
     "output_type": "stream",
     "text": [
      "Epoch 1/10000\n"
     ]
    },
    {
     "name": "stderr",
     "output_type": "stream",
     "text": [
      "2023-07-30 03:38:44.176541: I tensorflow/stream_executor/cuda/cuda_blas.cc:1786] TensorFloat-32 will be used for the matrix multiplication. This will only be logged once.\n",
      "2023-07-30 03:38:44.176577: I tensorflow/stream_executor/cuda/cuda_blas.cc:1786] TensorFloat-32 will be used for the matrix multiplication. This will only be logged once.\n",
      "2023-07-30 03:38:44.304753: I tensorflow/stream_executor/cuda/cuda_dnn.cc:384] Loaded cuDNN version 8401\n"
     ]
    },
    {
     "name": "stdout",
     "output_type": "stream",
     "text": [
      "238/238 [==============================] - 6s 13ms/step - loss: 0.4908 - root_mean_squared_error: 0.1218 - val_loss: 0.5375 - val_root_mean_squared_error: 0.1761\n",
      "Epoch 2/10000\n",
      "238/238 [==============================] - 2s 10ms/step - loss: 0.4756 - root_mean_squared_error: 0.0967 - val_loss: 0.6047 - val_root_mean_squared_error: 0.2043\n",
      "Epoch 3/10000\n",
      "238/238 [==============================] - 3s 11ms/step - loss: 0.4729 - root_mean_squared_error: 0.0913 - val_loss: 0.5077 - val_root_mean_squared_error: 0.1441\n",
      "Epoch 4/10000\n",
      "238/238 [==============================] - 3s 11ms/step - loss: 0.4711 - root_mean_squared_error: 0.0879 - val_loss: 0.4821 - val_root_mean_squared_error: 0.1135\n",
      "Epoch 5/10000\n",
      "238/238 [==============================] - 2s 10ms/step - loss: 0.4703 - root_mean_squared_error: 0.0863 - val_loss: 0.5329 - val_root_mean_squared_error: 0.1890\n",
      "Epoch 6/10000\n",
      "238/238 [==============================] - 3s 11ms/step - loss: 0.4697 - root_mean_squared_error: 0.0848 - val_loss: 0.4636 - val_root_mean_squared_error: 0.0854\n",
      "Epoch 7/10000\n",
      "238/238 [==============================] - 2s 10ms/step - loss: 0.4686 - root_mean_squared_error: 0.0825 - val_loss: 0.4654 - val_root_mean_squared_error: 0.0874\n",
      "Epoch 8/10000\n",
      "238/238 [==============================] - 2s 10ms/step - loss: 0.4678 - root_mean_squared_error: 0.0808 - val_loss: 0.4883 - val_root_mean_squared_error: 0.1194\n",
      "Epoch 9/10000\n",
      "238/238 [==============================] - 3s 11ms/step - loss: 0.4666 - root_mean_squared_error: 0.0780 - val_loss: 0.4624 - val_root_mean_squared_error: 0.0834\n",
      "Epoch 10/10000\n",
      "238/238 [==============================] - 2s 10ms/step - loss: 0.4655 - root_mean_squared_error: 0.0756 - val_loss: 0.4628 - val_root_mean_squared_error: 0.0838\n",
      "Epoch 11/10000\n",
      "238/238 [==============================] - 3s 11ms/step - loss: 0.4646 - root_mean_squared_error: 0.0734 - val_loss: 0.4602 - val_root_mean_squared_error: 0.0785\n",
      "Epoch 12/10000\n",
      "238/238 [==============================] - 2s 10ms/step - loss: 0.4630 - root_mean_squared_error: 0.0698 - val_loss: 0.4632 - val_root_mean_squared_error: 0.0853\n",
      "Epoch 13/10000\n",
      "238/238 [==============================] - 2s 10ms/step - loss: 0.4626 - root_mean_squared_error: 0.0693 - val_loss: 0.4629 - val_root_mean_squared_error: 0.0847\n",
      "Epoch 14/10000\n",
      "238/238 [==============================] - 2s 10ms/step - loss: 0.4616 - root_mean_squared_error: 0.0664 - val_loss: 0.4615 - val_root_mean_squared_error: 0.0814\n",
      "Epoch 15/10000\n",
      "238/238 [==============================] - 3s 11ms/step - loss: 0.4605 - root_mean_squared_error: 0.0639 - val_loss: 0.4596 - val_root_mean_squared_error: 0.0771\n",
      "Epoch 16/10000\n",
      "238/238 [==============================] - 3s 11ms/step - loss: 0.4600 - root_mean_squared_error: 0.0630 - val_loss: 0.4595 - val_root_mean_squared_error: 0.0779\n",
      "Epoch 17/10000\n",
      "238/238 [==============================] - 2s 10ms/step - loss: 0.4597 - root_mean_squared_error: 0.0621 - val_loss: 0.4630 - val_root_mean_squared_error: 0.0801\n",
      "Epoch 18/10000\n",
      "238/238 [==============================] - 2s 10ms/step - loss: 0.4583 - root_mean_squared_error: 0.0586 - val_loss: 0.4597 - val_root_mean_squared_error: 0.0773\n",
      "Epoch 19/10000\n",
      "238/238 [==============================] - 2s 10ms/step - loss: 0.4576 - root_mean_squared_error: 0.0571 - val_loss: 0.4676 - val_root_mean_squared_error: 0.0868\n",
      "Epoch 20/10000\n",
      "238/238 [==============================] - 2s 10ms/step - loss: 0.4570 - root_mean_squared_error: 0.0555 - val_loss: 0.4656 - val_root_mean_squared_error: 0.0899\n",
      "Epoch 21/10000\n",
      "238/238 [==============================] - 2s 10ms/step - loss: 0.4561 - root_mean_squared_error: 0.0533 - val_loss: 0.4609 - val_root_mean_squared_error: 0.0798\n",
      "Epoch 22/10000\n",
      "238/238 [==============================] - 2s 10ms/step - loss: 0.4552 - root_mean_squared_error: 0.0513 - val_loss: 0.4632 - val_root_mean_squared_error: 0.0813\n",
      "Epoch 23/10000\n",
      "238/238 [==============================] - 2s 10ms/step - loss: 0.4548 - root_mean_squared_error: 0.0505 - val_loss: 0.4606 - val_root_mean_squared_error: 0.0772\n",
      "Epoch 24/10000\n",
      "238/238 [==============================] - 2s 10ms/step - loss: 0.4544 - root_mean_squared_error: 0.0497 - val_loss: 0.4679 - val_root_mean_squared_error: 0.0883\n",
      "Epoch 25/10000\n",
      "238/238 [==============================] - 2s 10ms/step - loss: 0.4537 - root_mean_squared_error: 0.0479 - val_loss: 0.4601 - val_root_mean_squared_error: 0.0779\n",
      "Epoch 26/10000\n",
      "238/238 [==============================] - 3s 11ms/step - loss: 0.4530 - root_mean_squared_error: 0.0459 - val_loss: 0.4645 - val_root_mean_squared_error: 0.0856\n"
     ]
    },
    {
     "data": {
      "text/plain": [
       "<keras.callbacks.History at 0x14b38d755d30>"
      ]
     },
     "execution_count": 58,
     "metadata": {},
     "output_type": "execute_result"
    }
   ],
   "source": [
    "check.fit([train_gcn_feats, train_adj_list, train_gcn_feats_omics, train_keep[\"Cell_Line\"].values.reshape(-1,1), train_keep[\"Cell_Line\"].values.reshape(-1,1)],\n",
    "          train_keep[\"AUC\"].values.reshape(-1,1),\n",
    "         validation_data = ([valid_gcn_feats, valid_adj_list, valid_gcn_feats_omics, test_keep[\"Cell_Line\"].values.reshape(-1,1), test_keep[\"Cell_Line\"].values.reshape(-1,1)],\n",
    "          test_keep[\"AUC\"].values.reshape(-1,1)), \n",
    "         batch_size = 32, epochs = 10000, \n",
    "         callbacks = tf.keras.callbacks.EarlyStopping(monitor = \"val_loss\", patience = 10, restore_best_weights=True, \n",
    "                                                     mode = \"min\"), shuffle = True, verbose = 1, \n",
    "         validation_batch_size = 32)"
   ]
  },
  {
   "cell_type": "code",
   "execution_count": 59,
   "id": "b657abb9-83bb-46a8-ba87-bcc693ec3326",
   "metadata": {},
   "outputs": [
    {
     "name": "stderr",
     "output_type": "stream",
     "text": [
      "WARNING:absl:Found untraced functions such as _jit_compiled_convolution_op, _jit_compiled_convolution_op, _jit_compiled_convolution_op, _jit_compiled_convolution_op, _jit_compiled_convolution_op while saving (showing 5 of 5). These functions will not be directly callable after loading.\n"
     ]
    },
    {
     "name": "stdout",
     "output_type": "stream",
     "text": [
      "INFO:tensorflow:Assets written to: Models/combo_cdr_gcn_on_ccle_0_drop_on_train_and_pred/assets\n"
     ]
    },
    {
     "name": "stderr",
     "output_type": "stream",
     "text": [
      "INFO:tensorflow:Assets written to: Models/combo_cdr_gcn_on_ccle_0_drop_on_train_and_pred/assets\n"
     ]
    }
   ],
   "source": [
    "check.save(\"Models/combo_cdr_gcn_on_ccle_0_drop_on_train_and_pred\")"
   ]
  },
  {
   "cell_type": "code",
   "execution_count": 54,
   "id": "ddd4662a-d51a-483e-a736-34631e59161c",
   "metadata": {},
   "outputs": [],
   "source": [
    "check = tf.keras.models.load_model(\"Models/combo_cdr_gcn_on_ccle_0_drop_on_train_and_pred\")"
   ]
  },
  {
   "cell_type": "code",
   "execution_count": 60,
   "id": "5b571b52-32a1-4468-bd5d-fbd63175c550",
   "metadata": {},
   "outputs": [],
   "source": [
    "def get_features(train_keep1):\n",
    "    train_gcn_feats = []\n",
    "    train_adj_list = []\n",
    "    for drug_id in train_keep1[\"Drug_ID\"].values:\n",
    "        train_gcn_feats.append(dict_features[drug_id])\n",
    "        train_adj_list.append(dict_adj_mat[drug_id])\n",
    "    train_gcn_feats = np.array(train_gcn_feats).astype(\"float32\")\n",
    "    train_adj_list = np.array(train_adj_list).astype(\"float32\")\n",
    "    train_gcn_feats_omics = []\n",
    "    for cnc_id in train_keep1[\"Cell_Line\"].values:\n",
    "        train_gcn_feats_omics.append(combo_gen_expr_cnv_norm[cnc_id])\n",
    "    train_gcn_feats_omics = np.array(train_gcn_feats_omics).astype(\"float32\")\n",
    "    l2, l1 = train_keep1[\"Cell_Line\"].values.reshape(-1,1), train_keep1[\"Cell_Line\"].values.reshape(-1,1)\n",
    "    y_train = train_keep1[\"AUC\"].values.reshape(-1,1)\n",
    "    return [[train_gcn_feats, train_adj_list, train_gcn_feats_omics, l2, l1], y_train]"
   ]
  },
  {
   "cell_type": "code",
   "execution_count": 58,
   "id": "4fffda55-7f1a-458d-ba11-483080f9c77a",
   "metadata": {},
   "outputs": [],
   "source": [
    "# ccle_all"
   ]
  },
  {
   "cell_type": "code",
   "execution_count": 59,
   "id": "5090122b-88e9-4030-8fb0-a3725caecc6c",
   "metadata": {},
   "outputs": [],
   "source": [
    "# ccle_all = iu.load_single_drug_response_data_v2(source = 'CCLE_all', split_file_name='CCLE_all.txt', y_col_name='AUC')[[\"improve_sample_id\", \"improve_chem_id\", \"auc\"]]"
   ]
  },
  {
   "cell_type": "code",
   "execution_count": 60,
   "id": "ee484da5-ff27-4580-9aa4-998b90789cfc",
   "metadata": {},
   "outputs": [],
   "source": [
    "# ccle_all = ccle_all.dropna()"
   ]
  },
  {
   "cell_type": "code",
   "execution_count": 55,
   "id": "1b944959-8db4-44c5-8496-fdff43de7f1d",
   "metadata": {},
   "outputs": [
    {
     "data": {
      "text/plain": [
       "count    951.000000\n",
       "mean       0.782567\n",
       "std        0.165092\n",
       "min        0.082200\n",
       "25%        0.714050\n",
       "50%        0.822300\n",
       "75%        0.902500\n",
       "max        1.000000\n",
       "Name: AUC, dtype: float64"
      ]
     },
     "execution_count": 55,
     "metadata": {},
     "output_type": "execute_result"
    }
   ],
   "source": [
    "valid_keep[\"AUC\"].describe()"
   ]
  },
  {
   "cell_type": "code",
   "execution_count": 62,
   "id": "fe1647f8-e619-4432-8046-b8b3a99d45e6",
   "metadata": {},
   "outputs": [],
   "source": [
    "# ccle_all.shape"
   ]
  },
  {
   "cell_type": "code",
   "execution_count": 63,
   "id": "7ed46187-906a-4489-af91-ebd7e8e7c43f",
   "metadata": {},
   "outputs": [],
   "source": [
    "# ccle_all_cutoff = np.percentile(ccle_all[\"ic50\"].values, q= (2.5))"
   ]
  },
  {
   "cell_type": "code",
   "execution_count": 64,
   "id": "6ed3be2a-785b-456d-9604-c6da8661e411",
   "metadata": {},
   "outputs": [],
   "source": [
    "# ccle_all = ccle_all[ccle_all[\"ic50\"] >= ccle_all_cutoff]"
   ]
  },
  {
   "cell_type": "code",
   "execution_count": 65,
   "id": "43d2d3da-37c7-4c92-8f94-5455e8a443ed",
   "metadata": {},
   "outputs": [],
   "source": [
    "# ccle_all.shape"
   ]
  },
  {
   "cell_type": "code",
   "execution_count": 66,
   "id": "6f9fd6c2-9538-4033-9655-b6bb19827d41",
   "metadata": {},
   "outputs": [],
   "source": [
    "# plt.hist(ccle_all[\"ic50\"].values)"
   ]
  },
  {
   "cell_type": "code",
   "execution_count": 67,
   "id": "0e8c5318-2dee-4d22-a5d9-7f896ecb9c08",
   "metadata": {},
   "outputs": [],
   "source": [
    "# CTRPv2_all = iu.load_single_drug_response_data_v2(source = 'CTRPv2_all', split_file_name='CTRPv2_all.txt', y_col_name='IC50')[[\"improve_sample_id\", \"improve_chem_id\", \"ic50\"]]"
   ]
  },
  {
   "cell_type": "code",
   "execution_count": 68,
   "id": "3cf39ea1-292d-476b-9601-11c6ed5acd18",
   "metadata": {},
   "outputs": [],
   "source": [
    "# CTRPv2_all = CTRPv2_all.dropna()"
   ]
  },
  {
   "cell_type": "code",
   "execution_count": 69,
   "id": "f8b83890-f5d5-48aa-86a4-3378f0c2fa9c",
   "metadata": {},
   "outputs": [],
   "source": [
    "# CTRPv2_all_cutoff = np.percentile(CTRPv2_all[\"ic50\"].values, q= (2.5))"
   ]
  },
  {
   "cell_type": "code",
   "execution_count": 70,
   "id": "84a1a5e7-2153-444d-9bdc-e28e6b9aa991",
   "metadata": {},
   "outputs": [],
   "source": [
    "# CTRPv2_all = CTRPv2_all[CTRPv2_all[\"ic50\"] >= CTRPv2_all_cutoff]"
   ]
  },
  {
   "cell_type": "code",
   "execution_count": 71,
   "id": "747b2e3f-3a13-4593-a1fc-4d9f3b3b4a21",
   "metadata": {},
   "outputs": [],
   "source": [
    "# CTRPv2_all.shape"
   ]
  },
  {
   "cell_type": "code",
   "execution_count": 72,
   "id": "5507297b-bdf9-4613-a564-132a63afd541",
   "metadata": {},
   "outputs": [],
   "source": [
    "# plt.hist(CTRPv2_all[\"ic50\"].values)\n",
    "# plt.show()"
   ]
  },
  {
   "cell_type": "code",
   "execution_count": 73,
   "id": "bf24336d-5c7e-44c6-a34c-3109416749af",
   "metadata": {},
   "outputs": [],
   "source": [
    "# CTRPv2_all = CTRPv2_all.sample(frac = 0.2)"
   ]
  },
  {
   "cell_type": "code",
   "execution_count": 74,
   "id": "cec5cf92-0704-40b7-b641-3520f8e463b8",
   "metadata": {},
   "outputs": [],
   "source": [
    "# CTRPv2_all.shape"
   ]
  },
  {
   "cell_type": "code",
   "execution_count": 75,
   "id": "19ed4ff3-2517-4c53-941e-52b93f0fe81f",
   "metadata": {},
   "outputs": [],
   "source": [
    "# gsci_all = iu.load_single_drug_response_data_v2(source = 'gsci_all', split_file_name='gCSI_all.txt', y_col_name='IC50')[[\"improve_sample_id\", \"improve_chem_id\", \"ic50\"]]"
   ]
  },
  {
   "cell_type": "code",
   "execution_count": 76,
   "id": "452ea044-a07b-4e0b-8997-64f5857a8bf4",
   "metadata": {},
   "outputs": [],
   "source": [
    "# gsci_all = gsci_all.dropna()"
   ]
  },
  {
   "cell_type": "code",
   "execution_count": 77,
   "id": "eba4f238-f216-4ed8-8d3b-3facca25b9fc",
   "metadata": {},
   "outputs": [],
   "source": [
    "# gdsc_v1_all = iu.load_single_drug_response_data_v2(source = 'GDSCv1_all', split_file_name='GDSCv1_all.txt', y_col_name='IC50')[[\"improve_sample_id\", \"improve_chem_id\", \"ic50\"]]"
   ]
  },
  {
   "cell_type": "code",
   "execution_count": 78,
   "id": "189b812a-29f9-49b8-9b21-7519ce497095",
   "metadata": {},
   "outputs": [],
   "source": [
    "# gdsc_v1_all = gdsc_v1_all.dropna()"
   ]
  },
  {
   "cell_type": "code",
   "execution_count": 79,
   "id": "52c920ed-eb3b-4ce8-98e1-ebd50f2fc327",
   "metadata": {},
   "outputs": [],
   "source": [
    "# gdsc_v2_all = iu.load_single_drug_response_data_v2(source = 'GDSCv2_all', split_file_name='GDSCv2_all.txt', y_col_name='IC50')[[\"improve_sample_id\", \"improve_chem_id\", \"ic50\"]]"
   ]
  },
  {
   "cell_type": "code",
   "execution_count": 80,
   "id": "c267f45d-e5fe-49a0-ac9e-1182941f2b48",
   "metadata": {},
   "outputs": [],
   "source": [
    "# gdsc_v2_all = gdsc_v2_all.dropna()"
   ]
  },
  {
   "cell_type": "code",
   "execution_count": 81,
   "id": "f5dfe895-61e2-4565-8a4f-86e79a8bf36d",
   "metadata": {},
   "outputs": [],
   "source": [
    "# combo_keep1 = pd.concat([train_keep, test_keep], ignore_index = True)"
   ]
  },
  {
   "cell_type": "code",
   "execution_count": 82,
   "id": "165e2dfd-06b5-4be5-a1d8-3f696415fda3",
   "metadata": {},
   "outputs": [],
   "source": [
    "# ccle_all.columns"
   ]
  },
  {
   "cell_type": "code",
   "execution_count": 83,
   "id": "f5045c7d-c721-4838-ba59-2aa821c9e750",
   "metadata": {},
   "outputs": [],
   "source": [
    "# CTRPv2_all.columns = combo_keep1.columns"
   ]
  },
  {
   "cell_type": "code",
   "execution_count": 84,
   "id": "d51cc51a-3549-42df-80b9-add65f66aadb",
   "metadata": {},
   "outputs": [],
   "source": [
    "# CTRPv2_all[\"IC_50\"] = CTRPv2_all[\"IC_50\"].astype(\"float32\")"
   ]
  },
  {
   "cell_type": "code",
   "execution_count": 85,
   "id": "f7f48ae1-0b40-49a0-8c1d-2d49c76f53d9",
   "metadata": {},
   "outputs": [],
   "source": [
    "# CTRPv2_all.head()"
   ]
  },
  {
   "cell_type": "code",
   "execution_count": 86,
   "id": "d3bcb733-8dd0-473d-b611-86eabbd42ddf",
   "metadata": {},
   "outputs": [],
   "source": [
    "# ccle_all_right = pd.merge(combo_keep1,CTRPv2_all, how='outer', indicator=True)\n",
    "# to_pred_ccle = ccle_all_right[ccle_all_right['_merge'] == 'right_only']"
   ]
  },
  {
   "cell_type": "code",
   "execution_count": 56,
   "id": "7e19080f-e651-4dff-9fd5-06b455ada4b9",
   "metadata": {},
   "outputs": [
    {
     "data": {
      "text/html": [
       "<div>\n",
       "<style scoped>\n",
       "    .dataframe tbody tr th:only-of-type {\n",
       "        vertical-align: middle;\n",
       "    }\n",
       "\n",
       "    .dataframe tbody tr th {\n",
       "        vertical-align: top;\n",
       "    }\n",
       "\n",
       "    .dataframe thead th {\n",
       "        text-align: right;\n",
       "    }\n",
       "</style>\n",
       "<table border=\"1\" class=\"dataframe\">\n",
       "  <thead>\n",
       "    <tr style=\"text-align: right;\">\n",
       "      <th></th>\n",
       "      <th>Cell_Line</th>\n",
       "      <th>Drug_ID</th>\n",
       "      <th>AUC</th>\n",
       "    </tr>\n",
       "  </thead>\n",
       "  <tbody>\n",
       "    <tr>\n",
       "      <th>0</th>\n",
       "      <td>ACH-000956</td>\n",
       "      <td>Drug_435</td>\n",
       "      <td>0.8148</td>\n",
       "    </tr>\n",
       "    <tr>\n",
       "      <th>1</th>\n",
       "      <td>ACH-000323</td>\n",
       "      <td>Drug_749</td>\n",
       "      <td>0.8126</td>\n",
       "    </tr>\n",
       "    <tr>\n",
       "      <th>2</th>\n",
       "      <td>ACH-000323</td>\n",
       "      <td>Drug_195</td>\n",
       "      <td>0.4573</td>\n",
       "    </tr>\n",
       "    <tr>\n",
       "      <th>3</th>\n",
       "      <td>ACH-000905</td>\n",
       "      <td>Drug_895</td>\n",
       "      <td>0.4997</td>\n",
       "    </tr>\n",
       "    <tr>\n",
       "      <th>4</th>\n",
       "      <td>ACH-000973</td>\n",
       "      <td>Drug_749</td>\n",
       "      <td>0.7675</td>\n",
       "    </tr>\n",
       "  </tbody>\n",
       "</table>\n",
       "</div>"
      ],
      "text/plain": [
       "    Cell_Line   Drug_ID     AUC\n",
       "0  ACH-000956  Drug_435  0.8148\n",
       "1  ACH-000323  Drug_749  0.8126\n",
       "2  ACH-000323  Drug_195  0.4573\n",
       "3  ACH-000905  Drug_895  0.4997\n",
       "4  ACH-000973  Drug_749  0.7675"
      ]
     },
     "execution_count": 56,
     "metadata": {},
     "output_type": "execute_result"
    }
   ],
   "source": [
    "valid_keep.head()"
   ]
  },
  {
   "cell_type": "code",
   "execution_count": 57,
   "id": "e136538a-29a4-4047-bf3a-b1adaae0bd4c",
   "metadata": {},
   "outputs": [
    {
     "data": {
      "text/plain": [
       "(array([   9.,   57.,  125.,  298.,  455.,  487.,  696., 1652., 2109.,\n",
       "        1728.]),\n",
       " array([0.1224 , 0.21016, 0.29792, 0.38568, 0.47344, 0.5612 , 0.64896,\n",
       "        0.73672, 0.82448, 0.91224, 1.     ]),\n",
       " <BarContainer object of 10 artists>)"
      ]
     },
     "execution_count": 57,
     "metadata": {},
     "output_type": "execute_result"
    },
    {
     "data": {
      "image/png": "[encoded data removed]",
      "text/plain": [
       "<Figure size 640x480 with 1 Axes>"
      ]
     },
     "metadata": {},
     "output_type": "display_data"
    }
   ],
   "source": [
    "plt.hist(train_keep['AUC'].values)"
   ]
  },
  {
   "cell_type": "code",
   "execution_count": 58,
   "id": "55edad5b-ff1d-4009-ad5c-98f6228c2f3a",
   "metadata": {},
   "outputs": [
    {
     "data": {
      "text/plain": [
       "(array([  2.,   3.,  12.,  37.,  52.,  72.,  71., 202., 269., 231.]),\n",
       " array([0.0822 , 0.17398, 0.26576, 0.35754, 0.44932, 0.5411 , 0.63288,\n",
       "        0.72466, 0.81644, 0.90822, 1.     ]),\n",
       " <BarContainer object of 10 artists>)"
      ]
     },
     "execution_count": 58,
     "metadata": {},
     "output_type": "execute_result"
    },
    {
     "data": {
      "image/png": "[encoded data removed]",
      "text/plain": [
       "<Figure size 640x480 with 1 Axes>"
      ]
     },
     "metadata": {},
     "output_type": "display_data"
    }
   ],
   "source": [
    "plt.hist(valid_keep['AUC'].values)"
   ]
  },
  {
   "cell_type": "code",
   "execution_count": 61,
   "id": "fb371e53-139f-4f5b-9c0e-df08aea268a7",
   "metadata": {},
   "outputs": [],
   "source": [
    "features, target = get_features(valid_keep)"
   ]
  },
  {
   "cell_type": "code",
   "execution_count": 91,
   "id": "2fbafa10-7223-4949-8646-606280a10f9a",
   "metadata": {},
   "outputs": [],
   "source": [
    "# features, target = features.astype(\"float32\"), target.astype(\"float32\")"
   ]
  },
  {
   "cell_type": "code",
   "execution_count": 62,
   "id": "e59386fc-d660-4c15-b225-59ea4887ef67",
   "metadata": {},
   "outputs": [
    {
     "data": {
      "text/plain": [
       "(951, 1)"
      ]
     },
     "execution_count": 62,
     "metadata": {},
     "output_type": "execute_result"
    }
   ],
   "source": [
    "target.shape"
   ]
  },
  {
   "cell_type": "code",
   "execution_count": 63,
   "id": "bdeb3412-16f8-43c3-8470-88ef8e3e60c0",
   "metadata": {},
   "outputs": [
    {
     "data": {
      "text/plain": [
       "(951, 223, 75)"
      ]
     },
     "execution_count": 63,
     "metadata": {},
     "output_type": "execute_result"
    }
   ],
   "source": [
    "features[0].shape"
   ]
  },
  {
   "cell_type": "code",
   "execution_count": 72,
   "id": "9333cac6-41e5-4faf-8168-db009a07dbe3",
   "metadata": {},
   "outputs": [],
   "source": [
    "from sklearn.metrics import mean_squared_error"
   ]
  },
  {
   "cell_type": "code",
   "execution_count": 73,
   "id": "9c311f34-5744-4aad-9568-84d6b043e5f5",
   "metadata": {},
   "outputs": [],
   "source": [
    "from scipy.stats import pearsonr"
   ]
  },
  {
   "cell_type": "code",
   "execution_count": 79,
   "id": "b090e3e2-d669-4e3a-85a8-cadba86d7312",
   "metadata": {},
   "outputs": [],
   "source": [
    "import gc"
   ]
  },
  {
   "cell_type": "code",
   "execution_count": 85,
   "id": "37df0768-dd73-4515-93cc-5851c40467ae",
   "metadata": {},
   "outputs": [],
   "source": [
    "def get_one_preds():\n",
    "    with tf.device('/gpu:0'):\n",
    "        # simplecdr1 = deepcdrgcn(training, dropout1, dropout2)\n",
    "        # simplecdr1.set_weights(simplecdr.get_weights())\n",
    "        preds = check.predict(features, batch_size = 2048, verbose = 0)\n",
    "        # print(preds.shape)\n",
    "        rmse = np.sqrt(mean_squared_error(preds, target))\n",
    "        res = pearsonr(preds[:,0], target[:,0])\n",
    "        # print(i)\n",
    "        # print(rmse)\n",
    "        # print(res[0])\n",
    "        \n",
    "    # K.clear_session()\n",
    "    # gc.collect()\n",
    "    return preds"
   ]
  },
  {
   "cell_type": "code",
   "execution_count": 93,
   "id": "71485ca7-20d5-4732-9a39-939eba71e162",
   "metadata": {},
   "outputs": [],
   "source": [
    "# stacked_preds.shape"
   ]
  },
  {
   "cell_type": "code",
   "execution_count": 90,
   "id": "a9f08316-bb01-4403-a793-c440b50614d4",
   "metadata": {},
   "outputs": [],
   "source": [
    "preds = []\n",
    "for i in range(0, 100): \n",
    "    preds.append(get_one_preds())\n",
    "    K.clear_session()\n",
    "    gc.collect()\n",
    "stacked_preds = np.array(preds)\n",
    "y_valid_avg_preds = stacked_preds.mean(0)\n",
    "rmse = np.sqrt(mean_squared_error(y_valid_avg_preds, target))\n",
    "res = pearsonr(y_valid_avg_preds[:,0], target[:,0])\n",
    "pearson = res[0]\n",
    "r_square = np.square(pearson)"
   ]
  },
  {
   "cell_type": "code",
   "execution_count": 91,
   "id": "3c2654aa-4420-4804-9915-6a69a23d8da1",
   "metadata": {},
   "outputs": [
    {
     "data": {
      "text/plain": [
       "(0.867959683037054, 0.7533540113777831)"
      ]
     },
     "execution_count": 91,
     "metadata": {},
     "output_type": "execute_result"
    }
   ],
   "source": [
    "pearson, r_square"
   ]
  },
  {
   "cell_type": "code",
   "execution_count": 71,
   "id": "27387862-5648-44f3-ba54-11136a3fa2fe",
   "metadata": {},
   "outputs": [],
   "source": [
    "# preds = check.predict(features, verbose = 1, batch_size = 64)"
   ]
  },
  {
   "cell_type": "code",
   "execution_count": null,
   "id": "cca6ee29-bb67-49dd-b0f9-e87621a7cf88",
   "metadata": {},
   "outputs": [],
   "source": [
    "# plt.hist(preds)"
   ]
  },
  {
   "cell_type": "code",
   "execution_count": 96,
   "id": "ca1e7197-6ba3-435d-bd65-7b60779e09a1",
   "metadata": {},
   "outputs": [],
   "source": [
    "# check.evaluate(features,target, verbose = 1, batch_size = 64)"
   ]
  },
  {
   "cell_type": "code",
   "execution_count": 97,
   "id": "05617712-295b-4a4c-b306-c49b2980a9a0",
   "metadata": {},
   "outputs": [],
   "source": [
    "# features[0].shape"
   ]
  },
  {
   "cell_type": "code",
   "execution_count": null,
   "id": "ebeadb3b-f1e9-4fca-b448-11919701f4d2",
   "metadata": {},
   "outputs": [],
   "source": [
    "# from sklearn.metrics import mean_squared_error, r2_score"
   ]
  },
  {
   "cell_type": "code",
   "execution_count": null,
   "id": "017c053c-b74b-4839-8d65-16a183ab622e",
   "metadata": {},
   "outputs": [],
   "source": []
  },
  {
   "cell_type": "code",
   "execution_count": 99,
   "id": "34b4b2d3-a8a2-4276-ab08-33ee5fa52dc7",
   "metadata": {},
   "outputs": [],
   "source": [
    "# target"
   ]
  },
  {
   "cell_type": "code",
   "execution_count": null,
   "id": "1f155f63-24be-45de-8ddf-8e12dc22cd38",
   "metadata": {},
   "outputs": [],
   "source": [
    "# preds.shape"
   ]
  },
  {
   "cell_type": "code",
   "execution_count": null,
   "id": "147c08c3-91fc-4670-b5d5-c3c1689dec31",
   "metadata": {},
   "outputs": [],
   "source": [
    "# np.sqrt(mean_squared_error(preds, target))"
   ]
  },
  {
   "cell_type": "code",
   "execution_count": null,
   "id": "4b53b099-a3bb-4678-8ee2-6fdced475301",
   "metadata": {},
   "outputs": [],
   "source": [
    "# from scipy.stats import pearsonr"
   ]
  },
  {
   "cell_type": "code",
   "execution_count": null,
   "id": "a251f76c-d0e0-4189-9b98-10ab7311de5f",
   "metadata": {},
   "outputs": [],
   "source": [
    "# pearsonr(preds[:,0], target[:,0])"
   ]
  },
  {
   "cell_type": "code",
   "execution_count": null,
   "id": "1d570482-8ce2-48ce-b87d-bf64c653b213",
   "metadata": {},
   "outputs": [],
   "source": [
    "# r2_score(preds[:,0], target[:,0])"
   ]
  },
  {
   "cell_type": "code",
   "execution_count": null,
   "id": "1ab59698-dd18-4972-a046-84dae31261b1",
   "metadata": {},
   "outputs": [],
   "source": [
    "# import scipy"
   ]
  },
  {
   "cell_type": "code",
   "execution_count": null,
   "id": "0e3d5f55-67e9-4dd9-a817-3be9fb7dd629",
   "metadata": {},
   "outputs": [],
   "source": [
    "# # Polynomial Regression\n",
    "# def polyfit(x, y, degree):\n",
    "#     results = {}\n",
    "\n",
    "#     coeffs = numpy.polyfit(x, y, degree)\n",
    "\n",
    "#      # Polynomial Coefficients\n",
    "#     results['polynomial'] = coeffs.tolist()\n",
    "\n",
    "#     # r-squared\n",
    "#     p = numpy.poly1d(coeffs)\n",
    "#     # fit values, and mean\n",
    "#     yhat = p(x)                         # or [p(z) for z in x]\n",
    "#     ybar = numpy.sum(y)/len(y)          # or sum(y)/len(y)\n",
    "#     ssreg = numpy.sum((yhat-ybar)**2)   # or sum([ (yihat - ybar)**2 for yihat in yhat])\n",
    "#     sstot = numpy.sum((y - ybar)**2)    # or sum([ (yi - ybar)**2 for yi in y])\n",
    "#     results['determination'] = ssreg / sstot\n",
    "\n",
    "#     return results"
   ]
  },
  {
   "cell_type": "code",
   "execution_count": null,
   "id": "ade7cfcd-7497-4780-8a95-01320e343ebf",
   "metadata": {},
   "outputs": [],
   "source": [
    "# import numpy"
   ]
  },
  {
   "cell_type": "code",
   "execution_count": 120,
   "id": "73fdfca5-eb45-46dd-aec6-71a5878b868a",
   "metadata": {},
   "outputs": [],
   "source": [
    "# polyfit(preds[:,0], target[:,0], 2)"
   ]
  },
  {
   "cell_type": "code",
   "execution_count": null,
   "id": "9de6dd68-415f-40e5-8c42-73c81d66e30f",
   "metadata": {},
   "outputs": [],
   "source": [
    "# r_value"
   ]
  },
  {
   "cell_type": "code",
   "execution_count": null,
   "id": "1fedcc6e-34ba-48d9-bb2f-ab0e9b8502a7",
   "metadata": {},
   "outputs": [],
   "source": [
    "# np.square(0.8679722262280296)"
   ]
  },
  {
   "cell_type": "code",
   "execution_count": null,
   "id": "94ad5394-031a-46fd-bec1-b837302e941e",
   "metadata": {},
   "outputs": [],
   "source": [
    "# np.sqrt(0.7214)"
   ]
  }
 ],
 "metadata": {
  "kernelspec": {
   "display_name": "Python (enkf_gpu)",
   "language": "python",
   "name": "tf_custom_gayara_2"
  },
  "language_info": {
   "codemirror_mode": {
    "name": "ipython",
    "version": 3
   },
   "file_extension": ".py",
   "mimetype": "text/x-python",
   "name": "python",
   "nbconvert_exporter": "python",
   "pygments_lexer": "ipython3",
   "version": "3.9.13"
  }
 },
 "nbformat": 4,
 "nbformat_minor": 5
}
