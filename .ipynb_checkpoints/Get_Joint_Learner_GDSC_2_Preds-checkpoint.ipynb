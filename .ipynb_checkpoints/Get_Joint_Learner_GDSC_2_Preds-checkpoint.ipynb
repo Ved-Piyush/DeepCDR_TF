{
 "cells": [
  {
   "cell_type": "code",
   "execution_count": 2,
   "id": "9a6aafa7-7ff3-4b44-b722-7d0f62d71389",
   "metadata": {},
   "outputs": [
    {
     "name": "stderr",
     "output_type": "stream",
     "text": [
      "2023-07-30 18:26:20.433835: I tensorflow/core/util/util.cc:169] oneDNN custom operations are on. You may see slightly different numerical results due to floating-point round-off errors from different computation orders. To turn them off, set the environment variable `TF_ENABLE_ONEDNN_OPTS=0`.\n"
     ]
    }
   ],
   "source": [
    "import tensorflow as tf\n",
    "import matplotlib.pyplot as plt\n",
    "import improve_utils as iu"
   ]
  },
  {
   "cell_type": "code",
   "execution_count": 3,
   "id": "47efdf88-55b7-4794-9cb5-4df3c134538d",
   "metadata": {},
   "outputs": [
    {
     "name": "stderr",
     "output_type": "stream",
     "text": [
      "2023-07-30 18:26:23.199516: I tensorflow/core/platform/cpu_feature_guard.cc:193] This TensorFlow binary is optimized with oneAPI Deep Neural Network Library (oneDNN) to use the following CPU instructions in performance-critical operations:  SSE4.1 SSE4.2 AVX AVX2 AVX512F AVX512_VNNI FMA\n",
      "To enable them in other operations, rebuild TensorFlow with the appropriate compiler flags.\n",
      "2023-07-30 18:26:23.698089: I tensorflow/core/common_runtime/gpu/gpu_device.cc:1532] Created device /job:localhost/replica:0/task:0/device:GPU:0 with 78910 MB memory:  -> device: 0, name: NVIDIA A100 80GB PCIe, pci bus id: 0000:31:00.0, compute capability: 8.0\n"
     ]
    },
    {
     "name": "stdout",
     "output_type": "stream",
     "text": [
      "WARNING:tensorflow:No training configuration found in save file, so the model was *not* compiled. Compile it manually.\n"
     ]
    },
    {
     "name": "stderr",
     "output_type": "stream",
     "text": [
      "WARNING:tensorflow:No training configuration found in save file, so the model was *not* compiled. Compile it manually.\n"
     ]
    },
    {
     "name": "stdout",
     "output_type": "stream",
     "text": [
      "WARNING:tensorflow:No training configuration found in save file, so the model was *not* compiled. Compile it manually.\n"
     ]
    },
    {
     "name": "stderr",
     "output_type": "stream",
     "text": [
      "WARNING:tensorflow:No training configuration found in save file, so the model was *not* compiled. Compile it manually.\n"
     ]
    },
    {
     "name": "stdout",
     "output_type": "stream",
     "text": [
      "WARNING:tensorflow:No training configuration found in save file, so the model was *not* compiled. Compile it manually.\n"
     ]
    },
    {
     "name": "stderr",
     "output_type": "stream",
     "text": [
      "WARNING:tensorflow:No training configuration found in save file, so the model was *not* compiled. Compile it manually.\n"
     ]
    },
    {
     "name": "stdout",
     "output_type": "stream",
     "text": [
      "WARNING:tensorflow:No training configuration found in save file, so the model was *not* compiled. Compile it manually.\n"
     ]
    },
    {
     "name": "stderr",
     "output_type": "stream",
     "text": [
      "WARNING:tensorflow:No training configuration found in save file, so the model was *not* compiled. Compile it manually.\n"
     ]
    }
   ],
   "source": [
    "cancer_gen_expr_model = tf.keras.models.load_model(\"Models//cancer_gen_expr_model\")\n",
    "cancer_gen_mut_model = tf.keras.models.load_model(\"Models//cancer_gen_mut_model\")\n",
    "cancer_dna_methy_model = tf.keras.models.load_model(\"Models//cancer_dna_methy_model\")\n",
    "cancer_gen_cnv_model = tf.keras.models.load_model(\"Models//cancer_gen_cnv_model\")"
   ]
  },
  {
   "cell_type": "code",
   "execution_count": 4,
   "id": "b44bc995-ebaa-48c4-ac16-24d758f1e045",
   "metadata": {},
   "outputs": [],
   "source": [
    "import pickle"
   ]
  },
  {
   "cell_type": "code",
   "execution_count": 5,
   "id": "20e886bc-e937-4bb8-af5d-8d683803872b",
   "metadata": {},
   "outputs": [],
   "source": [
    "import numpy as np"
   ]
  },
  {
   "cell_type": "code",
   "execution_count": 6,
   "id": "f2a463eb-9cfc-49be-8f52-4b6784cefc6f",
   "metadata": {},
   "outputs": [],
   "source": [
    "with open(\"csa_data//drug_features.pickle\", \"rb\") as f:\n",
    "    dict_features = pickle.load(f)"
   ]
  },
  {
   "cell_type": "code",
   "execution_count": 7,
   "id": "a7be8e3e-dc35-4a13-9099-71b022a4048a",
   "metadata": {},
   "outputs": [],
   "source": [
    "with open(\"csa_data//norm_adj_mat.pickle\", \"rb\") as f:\n",
    "    dict_adj_mat = pickle.load(f)"
   ]
  },
  {
   "cell_type": "code",
   "execution_count": 8,
   "id": "1fe03c9b-eb6f-4336-a1e4-931c2212de1e",
   "metadata": {},
   "outputs": [],
   "source": [
    "with open(\"csa_data//combo_gen_expr_cnv_norm.pickle\", \"rb\") as f:\n",
    "    combo_gen_expr_cnv_norm = pickle.load( f)"
   ]
  },
  {
   "cell_type": "code",
   "execution_count": 9,
   "id": "9297b436-d084-45a1-928e-f03942f608b2",
   "metadata": {},
   "outputs": [],
   "source": [
    "common_achs = list(combo_gen_expr_cnv_norm.keys())"
   ]
  },
  {
   "cell_type": "code",
   "execution_count": 10,
   "id": "be2924ab-964b-41b6-925b-361bb11b8abe",
   "metadata": {},
   "outputs": [],
   "source": [
    "from tensorflow.keras import backend as K"
   ]
  },
  {
   "cell_type": "code",
   "execution_count": 11,
   "id": "2a402e83-ddb5-4d86-ab8f-93274a5f2623",
   "metadata": {},
   "outputs": [],
   "source": [
    "check = tf.keras.models.load_model(\"Models/combo_cdr_gcn_on_ctrpv2_0_drop_on_train_and_pred_sample_035\")\n",
    "check_full = tf.keras.models.load_model(\"Models/combo_cdr_gcn_on_ctrpv2_0_drop_on_train_and_pred\")"
   ]
  },
  {
   "cell_type": "code",
   "execution_count": 12,
   "id": "37a4695f-3c72-4153-ae82-65c2d7557b23",
   "metadata": {},
   "outputs": [],
   "source": [
    "def get_features(train_keep1):\n",
    "    train_gcn_feats = []\n",
    "    train_adj_list = []\n",
    "    for drug_id in train_keep1[\"Drug_ID\"].values:\n",
    "        train_gcn_feats.append(dict_features[drug_id])\n",
    "        train_adj_list.append(dict_adj_mat[drug_id])\n",
    "    train_gcn_feats = np.array(train_gcn_feats).astype(\"float32\")\n",
    "    train_adj_list = np.array(train_adj_list).astype(\"float32\")\n",
    "    train_gcn_feats_omics = []\n",
    "    for cnc_id in train_keep1[\"Cell_Line\"].values:\n",
    "        train_gcn_feats_omics.append(combo_gen_expr_cnv_norm[cnc_id])\n",
    "    train_gcn_feats_omics = np.array(train_gcn_feats_omics).astype(\"float32\")\n",
    "    l2, l1 = train_keep1[\"Cell_Line\"].values.reshape(-1,1), train_keep1[\"Cell_Line\"].values.reshape(-1,1)\n",
    "    y_train = train_keep1[\"AUC\"].values.reshape(-1,1)\n",
    "    return [[train_gcn_feats, train_adj_list, train_gcn_feats_omics, l2, l1], y_train]"
   ]
  },
  {
   "cell_type": "code",
   "execution_count": 13,
   "id": "36c5deb1-f62f-48a4-b3a8-bb999098fae5",
   "metadata": {},
   "outputs": [
    {
     "name": "stdout",
     "output_type": "stream",
     "text": [
      "Response data: (114644, 14)\n",
      "Unique cells:  470\n",
      "Unique drugs:  168\n"
     ]
    },
    {
     "name": "stderr",
     "output_type": "stream",
     "text": [
      "/lustre/work/statgrads/vpiyush2/DeepCDR_TF/improve_utils.py:187: DtypeWarning: Columns (3) have mixed types. Specify dtype option on import or set low_memory=False.\n",
      "  df = pd.read_csv(improve_globals.y_file_path, sep=sep)\n"
     ]
    }
   ],
   "source": [
    "gdsc_v2_all = iu.load_single_drug_response_data_v2(source = 'GDSCv2_all', split_file_name='GDSCv2_all.txt', y_col_name='AUC')[[\"improve_sample_id\", \"improve_chem_id\", \"auc\"]]\n",
    "gdsc_v2_all.columns = [\"Cell_Line\", \"Drug_ID\", \"AUC\"]\n",
    "# gdsc_v1_all = gdsc_v1_all.sample(frac = 0.15)"
   ]
  },
  {
   "cell_type": "code",
   "execution_count": 14,
   "id": "f7bdbdfd-b0d2-4dd7-9424-6ca8c40c8274",
   "metadata": {},
   "outputs": [
    {
     "data": {
      "text/plain": [
       "(114644, 3)"
      ]
     },
     "execution_count": 14,
     "metadata": {},
     "output_type": "execute_result"
    }
   ],
   "source": [
    "gdsc_v2_all.shape"
   ]
  },
  {
   "cell_type": "code",
   "execution_count": 15,
   "id": "e0a5531b-b492-42ef-8177-8bc135f48a19",
   "metadata": {},
   "outputs": [],
   "source": [
    "list_df = [gdsc_v2_all[i:i+25000] for i in range(0,gdsc_v2_all.shape[0],25000)]"
   ]
  },
  {
   "cell_type": "code",
   "execution_count": null,
   "id": "308f9891-68de-4864-8130-199e539a93b1",
   "metadata": {},
   "outputs": [],
   "source": [
    "# preds = []\n",
    "# for i in range(0, 100): \n",
    "#     preds.append(get_one_preds())\n",
    "#     K.clear_session()\n",
    "#     gc.collect()"
   ]
  },
  {
   "cell_type": "code",
   "execution_count": 16,
   "id": "f7db35f5-7b9b-4c6f-87b7-fe4bdcb46f6c",
   "metadata": {},
   "outputs": [],
   "source": [
    "import gc"
   ]
  },
  {
   "cell_type": "code",
   "execution_count": 17,
   "id": "0514067d-f3a8-4eaa-99bb-cd1885c8fa4d",
   "metadata": {},
   "outputs": [
    {
     "name": "stderr",
     "output_type": "stream",
     "text": [
      "2023-07-30 18:26:38.544902: I tensorflow/stream_executor/cuda/cuda_blas.cc:1786] TensorFloat-32 will be used for the matrix multiplication. This will only be logged once.\n",
      "2023-07-30 18:26:38.677147: I tensorflow/stream_executor/cuda/cuda_dnn.cc:384] Loaded cuDNN version 8401\n"
     ]
    },
    {
     "name": "stdout",
     "output_type": "stream",
     "text": [
      "391/391 [==============================] - 5s 7ms/step\n",
      "391/391 [==============================] - 3s 6ms/step\n",
      "391/391 [==============================] - 3s 6ms/step\n",
      "391/391 [==============================] - 3s 6ms/step\n",
      "229/229 [==============================] - 2s 7ms/step\n"
     ]
    }
   ],
   "source": [
    "actual = []\n",
    "preds = []\n",
    "for batch in list_df: \n",
    "    features_gdsc_v2_all, target_gdsc_v2_all = get_features(batch)\n",
    "    with tf.device('/gpu:0'):\n",
    "        preds_gdsc_v2_all = check_full.predict(features_gdsc_v2_all, verbose = 1, batch_size = 64)\n",
    "    actual.append(target_gdsc_v2_all)\n",
    "    preds.append(preds_gdsc_v2_all)\n",
    "    K.clear_session()\n",
    "    gc.collect()"
   ]
  },
  {
   "cell_type": "code",
   "execution_count": 18,
   "id": "76b0c8e7-7fcb-4067-a08e-81bfb4727109",
   "metadata": {},
   "outputs": [],
   "source": [
    "actual = [inner for item in actual for inner in item]"
   ]
  },
  {
   "cell_type": "code",
   "execution_count": 19,
   "id": "cc08e37b-3730-4f55-b901-8169e2ee1964",
   "metadata": {},
   "outputs": [],
   "source": [
    "preds = [inner for item in preds for inner in item]"
   ]
  },
  {
   "cell_type": "code",
   "execution_count": null,
   "id": "a68f03f5-ec88-487b-b32a-c8e6766328fe",
   "metadata": {},
   "outputs": [],
   "source": [
    "# _, tar = get_features(list_df[0])"
   ]
  },
  {
   "cell_type": "code",
   "execution_count": null,
   "id": "56aab95b-1e1f-4c9a-8688-456c7613173d",
   "metadata": {},
   "outputs": [],
   "source": [
    "# list_df[0]"
   ]
  },
  {
   "cell_type": "code",
   "execution_count": null,
   "id": "036a9580-bc36-4164-a3be-60acba625256",
   "metadata": {},
   "outputs": [],
   "source": [
    "# features_gdsc_v1_all, target_gdsc_v1_all = get_features(gdsc_v1_all)"
   ]
  },
  {
   "cell_type": "code",
   "execution_count": null,
   "id": "7bdf0304-89f3-41a7-b3ed-3129e597c971",
   "metadata": {},
   "outputs": [],
   "source": [
    "# preds_gdsc_v1_all = check_full.predict(features_gdsc_v1_all, verbose = 1, batch_size = 64)"
   ]
  },
  {
   "cell_type": "code",
   "execution_count": 20,
   "id": "b0fba5e8-2bd5-4ca1-84a8-bd2483379b19",
   "metadata": {},
   "outputs": [],
   "source": [
    "from scipy.stats import pearsonr"
   ]
  },
  {
   "cell_type": "code",
   "execution_count": 22,
   "id": "aef48d3d-8640-4347-b278-6f5950f6aa4e",
   "metadata": {},
   "outputs": [],
   "source": [
    "r = pearsonr(preds_gdsc_v2_all[:,0], target_gdsc_v2_all[:,0])"
   ]
  },
  {
   "cell_type": "code",
   "execution_count": 23,
   "id": "093de649-b33b-4dbe-86cd-a95dff757f34",
   "metadata": {},
   "outputs": [],
   "source": [
    "R_sq = r[0]**2"
   ]
  },
  {
   "cell_type": "code",
   "execution_count": 24,
   "id": "cdf6be53-43cc-45c9-bdb0-5147de67b188",
   "metadata": {},
   "outputs": [
    {
     "data": {
      "text/plain": [
       "(0.5281042644611252, 0.0)"
      ]
     },
     "execution_count": 24,
     "metadata": {},
     "output_type": "execute_result"
    }
   ],
   "source": [
    "r"
   ]
  },
  {
   "cell_type": "code",
   "execution_count": 25,
   "id": "1211bfdf-eaae-4946-aaa5-b0e70d312c9e",
   "metadata": {},
   "outputs": [
    {
     "data": {
      "text/plain": [
       "0.2788941141420261"
      ]
     },
     "execution_count": 25,
     "metadata": {},
     "output_type": "execute_result"
    }
   ],
   "source": [
    "R_sq"
   ]
  }
 ],
 "metadata": {
  "kernelspec": {
   "display_name": "Python (enkf_gpu)",
   "language": "python",
   "name": "tf_custom_gayara_2"
  },
  "language_info": {
   "codemirror_mode": {
    "name": "ipython",
    "version": 3
   },
   "file_extension": ".py",
   "mimetype": "text/x-python",
   "name": "python",
   "nbconvert_exporter": "python",
   "pygments_lexer": "ipython3",
   "version": "3.9.13"
  }
 },
 "nbformat": 4,
 "nbformat_minor": 5
}
