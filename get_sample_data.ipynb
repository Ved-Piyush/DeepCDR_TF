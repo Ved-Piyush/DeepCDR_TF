{
 "cells": [
  {
   "cell_type": "code",
   "execution_count": 2,
   "id": "0f157b0b-2672-481e-b7d5-3dcd073ec285",
   "metadata": {},
   "outputs": [],
   "source": [
    "import improve_utils as iu"
   ]
  },
  {
   "cell_type": "code",
   "execution_count": 3,
   "id": "096fed91-d915-4e67-baf5-f69e38ab8542",
   "metadata": {},
   "outputs": [
    {
     "name": "stdout",
     "output_type": "stream",
     "text": [
      "Response data: (7615, 14)\n",
      "Unique cells:  411\n",
      "Unique drugs:  24\n"
     ]
    },
    {
     "name": "stderr",
     "output_type": "stream",
     "text": [
      "/lustre/work/statgrads/vpiyush2/DeepCDR_TF/improve_utils.py:187: DtypeWarning: Columns (3) have mixed types. Specify dtype option on import or set low_memory=False.\n",
      "  df = pd.read_csv(improve_globals.y_file_path, sep=sep)\n"
     ]
    }
   ],
   "source": [
    "responses_train = iu.load_single_drug_response_data_v2(source = 'CCLE', split_file_name='CCLE_split_3_train.txt', y_col_name='IC50')"
   ]
  },
  {
   "cell_type": "code",
   "execution_count": 5,
   "id": "c28c0545-a48f-472a-9ab4-9c648644e556",
   "metadata": {},
   "outputs": [],
   "source": [
    "# responses_train"
   ]
  },
  {
   "cell_type": "code",
   "execution_count": 3,
   "id": "fa756857-1e51-4470-9128-d0d757ab0330",
   "metadata": {},
   "outputs": [],
   "source": [
    "# first basically "
   ]
  },
  {
   "cell_type": "code",
   "execution_count": 4,
   "id": "43150106-06ae-4d2a-aca3-7e82a9c30d54",
   "metadata": {},
   "outputs": [],
   "source": [
    "## the list of datasets we need are\n",
    "## mutation\n",
    "## gene expression\n",
    "### copy number\n",
    "## Dna methylation\n",
    "## drug features"
   ]
  },
  {
   "cell_type": "code",
   "execution_count": 5,
   "id": "66d4e6ba-c621-4cf9-a553-d5a9632e3678",
   "metadata": {},
   "outputs": [],
   "source": [
    "import pickle"
   ]
  },
  {
   "cell_type": "code",
   "execution_count": 6,
   "id": "23d10d08-adb8-4867-a03a-186daab0bd49",
   "metadata": {},
   "outputs": [],
   "source": [
    "with open(\"csa_data//common_genes.pickle\", \"rb\") as f:\n",
    "    common_genes = pickle.load(f).tolist()"
   ]
  },
  {
   "cell_type": "code",
   "execution_count": 7,
   "id": "09049550-ed85-4990-9f96-c6729ff1994a",
   "metadata": {},
   "outputs": [],
   "source": [
    "# common_genes"
   ]
  },
  {
   "cell_type": "code",
   "execution_count": 8,
   "id": "bde1461e-49fe-457d-ae9f-8d0e8dd821c5",
   "metadata": {},
   "outputs": [],
   "source": [
    "# df_ge"
   ]
  },
  {
   "cell_type": "code",
   "execution_count": 9,
   "id": "652c4b84-a4e8-4ad2-832c-00d83a7fcf08",
   "metadata": {},
   "outputs": [
    {
     "name": "stdout",
     "output_type": "stream",
     "text": [
      "Gene expression data: (1007, 30805)\n",
      "Copy number data: (1018, 25331)\n"
     ]
    }
   ],
   "source": [
    "df_ge = iu.load_gene_expression_data(gene_system_identifier=\"Gene_Symbol\").columns\n",
    "df_cnv = iu.load_copy_number_data(gene_system_identifier=\"Gene_Symbol\").columns"
   ]
  },
  {
   "cell_type": "code",
   "execution_count": 10,
   "id": "2e4a4c1b-8a0a-40ad-a6e8-f68626cf39cc",
   "metadata": {},
   "outputs": [],
   "source": [
    "# df_cnv.dtypes"
   ]
  },
  {
   "cell_type": "code",
   "execution_count": 11,
   "id": "c7653fec-953c-4e8b-9408-1f681e58cad9",
   "metadata": {},
   "outputs": [],
   "source": [
    "# df_cnv = df_cnv.fill"
   ]
  },
  {
   "cell_type": "code",
   "execution_count": 12,
   "id": "790b4d5e-467c-4fb9-8e6e-3a8163e55fbd",
   "metadata": {},
   "outputs": [],
   "source": [
    "common_ftp = set(df_ge).intersection(df_cnv)"
   ]
  },
  {
   "cell_type": "code",
   "execution_count": 13,
   "id": "125a2c19-4e89-46a2-b088-139f9bdcb38b",
   "metadata": {},
   "outputs": [],
   "source": [
    "common_genes = set(common_genes).intersection(common_ftp)"
   ]
  },
  {
   "cell_type": "code",
   "execution_count": 14,
   "id": "df40a0e6-6c3e-418d-9c9b-98bce70b5c32",
   "metadata": {},
   "outputs": [],
   "source": [
    "import numpy as np"
   ]
  },
  {
   "cell_type": "code",
   "execution_count": 15,
   "id": "9a3c6ff2-1754-43e5-8490-7a8b1dce2202",
   "metadata": {},
   "outputs": [],
   "source": [
    "common_genes = np.sort(list(common_genes)).tolist()"
   ]
  },
  {
   "cell_type": "code",
   "execution_count": 16,
   "id": "87355432-d8de-4ed6-a8e7-0db8ab7b1f34",
   "metadata": {},
   "outputs": [],
   "source": [
    "with open(\"csa_data//tf_common_genes.pickle\", \"wb\") as f:\n",
    "    pickle.dump(np.sort(common_genes), f)"
   ]
  },
  {
   "cell_type": "code",
   "execution_count": 17,
   "id": "54c43778-3224-486a-b632-70bcdc64c77a",
   "metadata": {},
   "outputs": [
    {
     "data": {
      "text/plain": [
       "683"
      ]
     },
     "execution_count": 17,
     "metadata": {},
     "output_type": "execute_result"
    }
   ],
   "source": [
    "len(common_genes)"
   ]
  },
  {
   "cell_type": "code",
   "execution_count": 18,
   "id": "463ee5dd-e939-48a9-81d6-04b955b7a5b0",
   "metadata": {},
   "outputs": [
    {
     "name": "stdout",
     "output_type": "stream",
     "text": [
      "Gene expression data: (1007, 30805)\n",
      "Copy number data: (1018, 25331)\n",
      "Mutation count data: (1024, 18739)\n",
      "DNA methylation data: (824, 19606)\n"
     ]
    }
   ],
   "source": [
    "df_ge = iu.load_gene_expression_data(gene_system_identifier=\"Gene_Symbol\")[common_genes]\n",
    "df_cnv = iu.load_copy_number_data(gene_system_identifier=\"Gene_Symbol\")[common_genes]\n",
    "df_mut = iu.load_mutation_count_data(gene_system_identifier=\"Gene_Symbol\")\n",
    "df_methy = iu.load_dna_methylation_data(gene_system_identifier=\"TSS\")"
   ]
  },
  {
   "cell_type": "code",
   "execution_count": 19,
   "id": "f8ad9821-0c5a-483b-bf68-0c4b7aa65061",
   "metadata": {},
   "outputs": [],
   "source": [
    "# df_methy.dtypes"
   ]
  },
  {
   "cell_type": "code",
   "execution_count": 20,
   "id": "af07ea8d-9d14-4165-aaff-da0c77424a46",
   "metadata": {},
   "outputs": [],
   "source": [
    "df_methy = df_methy.replace('     NA', np.nan)"
   ]
  },
  {
   "cell_type": "code",
   "execution_count": 21,
   "id": "25af62a2-df40-4889-a1f6-4f210b931582",
   "metadata": {},
   "outputs": [],
   "source": [
    "df_methy = df_methy.astype(\"float64\")"
   ]
  },
  {
   "cell_type": "code",
   "execution_count": 22,
   "id": "7e381d77-ac15-4710-8036-b17bd7f4fd95",
   "metadata": {},
   "outputs": [],
   "source": [
    "df_methy = df_methy.fillna(df_methy.mean())"
   ]
  },
  {
   "cell_type": "code",
   "execution_count": 23,
   "id": "ee37afb5-b1e3-4584-a4d3-a12ca443cd36",
   "metadata": {},
   "outputs": [
    {
     "data": {
      "text/plain": [
       "((1007, 683), (1018, 683), (1024, 18739), (824, 19606))"
      ]
     },
     "execution_count": 23,
     "metadata": {},
     "output_type": "execute_result"
    }
   ],
   "source": [
    "df_ge.shape, df_cnv.shape, df_mut.shape, df_methy.shape"
   ]
  },
  {
   "cell_type": "code",
   "execution_count": 24,
   "id": "186f74c8-7f99-444a-be3f-f32a7e1305d9",
   "metadata": {},
   "outputs": [
    {
     "data": {
      "text/plain": [
       "1.0"
      ]
     },
     "execution_count": 24,
     "metadata": {},
     "output_type": "execute_result"
    }
   ],
   "source": [
    "np.mean(np.array(df_ge.columns) == np.array(df_cnv.columns))"
   ]
  },
  {
   "cell_type": "code",
   "execution_count": 25,
   "id": "44c7cc50-df96-4c13-befb-221a38814303",
   "metadata": {},
   "outputs": [
    {
     "data": {
      "text/plain": [
       "683"
      ]
     },
     "execution_count": 25,
     "metadata": {},
     "output_type": "execute_result"
    }
   ],
   "source": [
    "len(common_genes)"
   ]
  },
  {
   "cell_type": "code",
   "execution_count": 26,
   "id": "f978663b-34fc-4174-918b-b96c41bc0e2c",
   "metadata": {},
   "outputs": [],
   "source": [
    "# common_genes"
   ]
  },
  {
   "cell_type": "code",
   "execution_count": 27,
   "id": "9eee5cbb-b5cc-4742-af3b-3615f3651123",
   "metadata": {},
   "outputs": [
    {
     "data": {
      "text/plain": [
       "(1007, 683)"
      ]
     },
     "execution_count": 27,
     "metadata": {},
     "output_type": "execute_result"
    }
   ],
   "source": [
    "df_ge.shape"
   ]
  },
  {
   "cell_type": "code",
   "execution_count": 28,
   "id": "bf9149a0-40df-4488-a2a8-14eacbd81d57",
   "metadata": {},
   "outputs": [],
   "source": [
    "# common_genes"
   ]
  },
  {
   "cell_type": "code",
   "execution_count": 29,
   "id": "a984e5e0-c831-4052-ab2c-dae0ec6dbe13",
   "metadata": {},
   "outputs": [],
   "source": [
    "from sklearn.preprocessing import StandardScaler"
   ]
  },
  {
   "cell_type": "code",
   "execution_count": 30,
   "id": "547aa9d3-d2b7-4db3-8e94-06a11a8729ad",
   "metadata": {},
   "outputs": [
    {
     "name": "stderr",
     "output_type": "stream",
     "text": [
      "2023-07-30 02:31:45.775042: I tensorflow/core/util/util.cc:169] oneDNN custom operations are on. You may see slightly different numerical results due to floating-point round-off errors from different computation orders. To turn them off, set the environment variable `TF_ENABLE_ONEDNN_OPTS=0`.\n"
     ]
    }
   ],
   "source": [
    "import tensorflow as tf"
   ]
  },
  {
   "cell_type": "code",
   "execution_count": 31,
   "id": "51982fee-aca2-4f79-a7c5-bd540c520ec2",
   "metadata": {},
   "outputs": [],
   "source": [
    "import numpy as np"
   ]
  },
  {
   "cell_type": "code",
   "execution_count": 32,
   "id": "c92ab0e5-101a-4ae0-b5b9-c7b34b9d3567",
   "metadata": {},
   "outputs": [],
   "source": [
    "def get_emb_models(dataset, norm = False):\n",
    "    std = StandardScaler()\n",
    "    unique_ids = dataset.index\n",
    "    text_vec_layer = tf.keras.layers.TextVectorization(max_tokens = dataset.shape[0] + 2, \n",
    "                                                  standardize=None, split = None, \n",
    "                                                  output_mode = \"int\", \n",
    "                                                  vocabulary = unique_ids.tolist())\n",
    "    # weights = dataset.drop(id_col, 1).values\n",
    "    weights = dataset.values\n",
    "    padding_zeros = np.zeros((2, weights.shape[1]))\n",
    "    weights = np.vstack((padding_zeros, weights))\n",
    "    if norm == True:\n",
    "        std.fit(weights)\n",
    "        weights = std.transform(weights)\n",
    "    emb_layer = tf.keras.layers.Embedding(dataset.shape[0] + 2, \n",
    "                                     weights.shape[1], \n",
    "                                     weights = [weights], \n",
    "                                     trainable = False)\n",
    "    input_layer = tf.keras.layers.Input(shape = (1,), dtype = tf.string)\n",
    "    vec_out = text_vec_layer(input_layer)\n",
    "    emb_out = emb_layer(vec_out)\n",
    "    flat_out = tf.keras.layers.Flatten()(emb_out)\n",
    "    emb_model = tf.keras.models.Model(input_layer, flat_out)\n",
    "    return emb_model"
   ]
  },
  {
   "cell_type": "code",
   "execution_count": 33,
   "id": "a90a807b-258c-4d9a-be88-66ca2a8523d5",
   "metadata": {},
   "outputs": [],
   "source": [
    "# df_ge.head()"
   ]
  },
  {
   "cell_type": "code",
   "execution_count": 34,
   "id": "cf190b21-eb3f-4a25-aeb8-59e53beb8117",
   "metadata": {},
   "outputs": [
    {
     "name": "stderr",
     "output_type": "stream",
     "text": [
      "2023-07-30 02:31:48.415401: I tensorflow/core/platform/cpu_feature_guard.cc:193] This TensorFlow binary is optimized with oneAPI Deep Neural Network Library (oneDNN) to use the following CPU instructions in performance-critical operations:  SSE4.1 SSE4.2 AVX AVX2 AVX512F AVX512_VNNI FMA\n",
      "To enable them in other operations, rebuild TensorFlow with the appropriate compiler flags.\n",
      "2023-07-30 02:31:49.154104: I tensorflow/core/common_runtime/gpu/gpu_device.cc:1532] Created device /job:localhost/replica:0/task:0/device:GPU:0 with 78910 MB memory:  -> device: 0, name: NVIDIA A100 80GB PCIe, pci bus id: 0000:31:00.0, compute capability: 8.0\n"
     ]
    }
   ],
   "source": [
    "cancer_gen_expr_model = get_emb_models(df_ge, norm = True)\n",
    "cancer_gen_mut_model = get_emb_models(df_mut, norm = True)\n",
    "cancer_dna_methy_model = get_emb_models(df_methy, norm = True)\n",
    "cancer_gen_cnv_model = get_emb_models(df_cnv, norm = True)"
   ]
  },
  {
   "cell_type": "code",
   "execution_count": 35,
   "id": "12132389-3527-4140-809f-eee6397eba9e",
   "metadata": {},
   "outputs": [
    {
     "name": "stdout",
     "output_type": "stream",
     "text": [
      "WARNING:tensorflow:Compiled the loaded model, but the compiled metrics have yet to be built. `model.compile_metrics` will be empty until you train or evaluate the model.\n"
     ]
    },
    {
     "name": "stderr",
     "output_type": "stream",
     "text": [
      "WARNING:tensorflow:Compiled the loaded model, but the compiled metrics have yet to be built. `model.compile_metrics` will be empty until you train or evaluate the model.\n"
     ]
    },
    {
     "name": "stdout",
     "output_type": "stream",
     "text": [
      "INFO:tensorflow:Assets written to: Models//cancer_gen_expr_model/assets\n"
     ]
    },
    {
     "name": "stderr",
     "output_type": "stream",
     "text": [
      "INFO:tensorflow:Assets written to: Models//cancer_gen_expr_model/assets\n"
     ]
    },
    {
     "name": "stdout",
     "output_type": "stream",
     "text": [
      "WARNING:tensorflow:Compiled the loaded model, but the compiled metrics have yet to be built. `model.compile_metrics` will be empty until you train or evaluate the model.\n"
     ]
    },
    {
     "name": "stderr",
     "output_type": "stream",
     "text": [
      "WARNING:tensorflow:Compiled the loaded model, but the compiled metrics have yet to be built. `model.compile_metrics` will be empty until you train or evaluate the model.\n"
     ]
    },
    {
     "name": "stdout",
     "output_type": "stream",
     "text": [
      "INFO:tensorflow:Assets written to: Models//cancer_gen_mut_model/assets\n"
     ]
    },
    {
     "name": "stderr",
     "output_type": "stream",
     "text": [
      "INFO:tensorflow:Assets written to: Models//cancer_gen_mut_model/assets\n"
     ]
    },
    {
     "name": "stdout",
     "output_type": "stream",
     "text": [
      "WARNING:tensorflow:Compiled the loaded model, but the compiled metrics have yet to be built. `model.compile_metrics` will be empty until you train or evaluate the model.\n"
     ]
    },
    {
     "name": "stderr",
     "output_type": "stream",
     "text": [
      "WARNING:tensorflow:Compiled the loaded model, but the compiled metrics have yet to be built. `model.compile_metrics` will be empty until you train or evaluate the model.\n"
     ]
    },
    {
     "name": "stdout",
     "output_type": "stream",
     "text": [
      "INFO:tensorflow:Assets written to: Models//cancer_dna_methy_model/assets\n"
     ]
    },
    {
     "name": "stderr",
     "output_type": "stream",
     "text": [
      "INFO:tensorflow:Assets written to: Models//cancer_dna_methy_model/assets\n"
     ]
    },
    {
     "name": "stdout",
     "output_type": "stream",
     "text": [
      "WARNING:tensorflow:Compiled the loaded model, but the compiled metrics have yet to be built. `model.compile_metrics` will be empty until you train or evaluate the model.\n"
     ]
    },
    {
     "name": "stderr",
     "output_type": "stream",
     "text": [
      "WARNING:tensorflow:Compiled the loaded model, but the compiled metrics have yet to be built. `model.compile_metrics` will be empty until you train or evaluate the model.\n"
     ]
    },
    {
     "name": "stdout",
     "output_type": "stream",
     "text": [
      "INFO:tensorflow:Assets written to: Models//cancer_gen_cnv_model/assets\n"
     ]
    },
    {
     "name": "stderr",
     "output_type": "stream",
     "text": [
      "INFO:tensorflow:Assets written to: Models//cancer_gen_cnv_model/assets\n"
     ]
    }
   ],
   "source": [
    "cancer_gen_expr_model.save(\"Models//cancer_gen_expr_model\")\n",
    "cancer_gen_mut_model.save(\"Models//cancer_gen_mut_model\")\n",
    "cancer_dna_methy_model.save(\"Models//cancer_dna_methy_model\")\n",
    "cancer_gen_cnv_model.save(\"Models//cancer_gen_cnv_model\")"
   ]
  },
  {
   "cell_type": "code",
   "execution_count": 36,
   "id": "e284f9f7-e49b-445b-b3fd-77f467a34a2a",
   "metadata": {},
   "outputs": [
    {
     "name": "stdout",
     "output_type": "stream",
     "text": [
      "SMILES data: (1565, 2)\n"
     ]
    }
   ],
   "source": [
    "all_smiles = iu.load_smiles_data()"
   ]
  },
  {
   "cell_type": "code",
   "execution_count": 37,
   "id": "949ab978-827f-4b66-8658-3e7b0b050229",
   "metadata": {},
   "outputs": [
    {
     "data": {
      "text/plain": [
       "(1565, 2)"
      ]
     },
     "execution_count": 37,
     "metadata": {},
     "output_type": "execute_result"
    }
   ],
   "source": [
    "all_smiles.shape"
   ]
  },
  {
   "cell_type": "code",
   "execution_count": 38,
   "id": "2c3968af-2872-4cd4-a351-c6b73673a77e",
   "metadata": {},
   "outputs": [
    {
     "data": {
      "text/html": [
       "<div>\n",
       "<style scoped>\n",
       "    .dataframe tbody tr th:only-of-type {\n",
       "        vertical-align: middle;\n",
       "    }\n",
       "\n",
       "    .dataframe tbody tr th {\n",
       "        vertical-align: top;\n",
       "    }\n",
       "\n",
       "    .dataframe thead th {\n",
       "        text-align: right;\n",
       "    }\n",
       "</style>\n",
       "<table border=\"1\" class=\"dataframe\">\n",
       "  <thead>\n",
       "    <tr style=\"text-align: right;\">\n",
       "      <th></th>\n",
       "      <th>improve_chem_id</th>\n",
       "      <th>smiles</th>\n",
       "    </tr>\n",
       "  </thead>\n",
       "  <tbody>\n",
       "    <tr>\n",
       "      <th>0</th>\n",
       "      <td>Drug_0</td>\n",
       "      <td>F</td>\n",
       "    </tr>\n",
       "    <tr>\n",
       "      <th>1</th>\n",
       "      <td>Drug_1</td>\n",
       "      <td>Cl[Pt]Cl.N.N</td>\n",
       "    </tr>\n",
       "    <tr>\n",
       "      <th>2</th>\n",
       "      <td>Drug_10</td>\n",
       "      <td>O=P(O)(O)C(O)(Cn1ccnc1)P(=O)(O)O</td>\n",
       "    </tr>\n",
       "    <tr>\n",
       "      <th>3</th>\n",
       "      <td>Drug_100</td>\n",
       "      <td>CCOc1ccn(-c2ccc(F)cc2)c(=O)c1C(=O)Nc1ccc(Oc2cc...</td>\n",
       "    </tr>\n",
       "    <tr>\n",
       "      <th>4</th>\n",
       "      <td>Drug_1000</td>\n",
       "      <td>NCCCCC(NC(=O)C(N)CCCN=C(N)N)C(=O)NC(CCCCN)C(=O...</td>\n",
       "    </tr>\n",
       "  </tbody>\n",
       "</table>\n",
       "</div>"
      ],
      "text/plain": [
       "  improve_chem_id                                             smiles\n",
       "0          Drug_0                                                  F\n",
       "1          Drug_1                                       Cl[Pt]Cl.N.N\n",
       "2         Drug_10                   O=P(O)(O)C(O)(Cn1ccnc1)P(=O)(O)O\n",
       "3        Drug_100  CCOc1ccn(-c2ccc(F)cc2)c(=O)c1C(=O)Nc1ccc(Oc2cc...\n",
       "4       Drug_1000  NCCCCC(NC(=O)C(N)CCCN=C(N)N)C(=O)NC(CCCCN)C(=O..."
      ]
     },
     "execution_count": 38,
     "metadata": {},
     "output_type": "execute_result"
    }
   ],
   "source": [
    "all_smiles.head()"
   ]
  },
  {
   "cell_type": "code",
   "execution_count": 39,
   "id": "1839b352-e16b-4a5a-a27a-2bed2569d0c6",
   "metadata": {},
   "outputs": [
    {
     "name": "stderr",
     "output_type": "stream",
     "text": [
      "WARNING:deepchem.models:Skipped loading some PyTorch models, missing a dependency. No module named 'torch'\n",
      "WARNING:deepchem.models:Skipped loading modules with pytorch-geometric dependency, missing a dependency. No module named 'torch'\n",
      "WARNING:deepchem.models:Skipped loading modules with pytorch-lightning dependency, missing a dependency. No module named 'torch'\n",
      "WARNING:deepchem.models:Skipped loading some Jax models, missing a dependency. No module named 'haiku'\n"
     ]
    }
   ],
   "source": [
    "import deepchem as dc\n",
    "from rdkit import Chem"
   ]
  },
  {
   "cell_type": "code",
   "execution_count": 40,
   "id": "491fcb68-2b3f-459c-8e07-99b8be37756a",
   "metadata": {},
   "outputs": [],
   "source": [
    "def NormalizeAdj(adj):\n",
    "    adj = adj + np.eye(adj.shape[0])\n",
    "    d = sp.diags(np.power(np.array(adj.sum(1)), -0.5).flatten(), 0).toarray()\n",
    "    a_norm = adj.dot(d).transpose().dot(d)\n",
    "    return a_norm\n",
    "def random_adjacency_matrix(n):   \n",
    "    matrix = [[random.randint(0, 1) for i in range(n)] for j in range(n)]\n",
    "    # No vertex connects to itself\n",
    "    for i in range(n):\n",
    "        matrix[i][i] = 0\n",
    "    # If i is connected to j, j is connected to i\n",
    "    for i in range(n):\n",
    "        for j in range(n):\n",
    "            matrix[j][i] = matrix[i][j]\n",
    "    return matrix\n",
    "def CalculateGraphFeat(feat_mat,adj_list, Max_atoms):\n",
    "    assert feat_mat.shape[0] == len(adj_list)\n",
    "    feat = np.zeros((Max_atoms,feat_mat.shape[-1]),dtype='float32')\n",
    "    adj_mat = np.zeros((Max_atoms,Max_atoms),dtype='float32')\n",
    "    if israndom:\n",
    "        feat = np.random.rand(Max_atoms,feat_mat.shape[-1])\n",
    "        adj_mat[feat_mat.shape[0]:,feat_mat.shape[0]:] = random_adjacency_matrix(Max_atoms-feat_mat.shape[0])        \n",
    "    feat[:feat_mat.shape[0],:] = feat_mat\n",
    "    for i in range(len(adj_list)):\n",
    "        nodes = adj_list[i]\n",
    "        for each in nodes:\n",
    "            adj_mat[i,int(each)] = 1\n",
    "    assert np.allclose(adj_mat,adj_mat.T)\n",
    "    adj_ = adj_mat[:len(adj_list),:len(adj_list)]\n",
    "    adj_2 = adj_mat[len(adj_list):,len(adj_list):]\n",
    "    norm_adj_ = NormalizeAdj(adj_)\n",
    "    norm_adj_2 = NormalizeAdj(adj_2)\n",
    "    adj_mat[:len(adj_list),:len(adj_list)] = norm_adj_\n",
    "    adj_mat[len(adj_list):,len(adj_list):] = norm_adj_2    \n",
    "    return [feat,adj_mat]"
   ]
  },
  {
   "cell_type": "code",
   "execution_count": 41,
   "id": "1701d54c-1c85-4d7a-90a4-ddaa2c6f17c8",
   "metadata": {},
   "outputs": [],
   "source": [
    "import scipy.sparse as sp"
   ]
  },
  {
   "cell_type": "code",
   "execution_count": 42,
   "id": "7b9a6fb9-4816-4470-a088-9f9df984dc16",
   "metadata": {},
   "outputs": [
    {
     "name": "stderr",
     "output_type": "stream",
     "text": [
      "[02:31:54] WARNING: not removing hydrogen atom without neighbors\n",
      "[02:31:54] WARNING: not removing hydrogen atom without neighbors\n",
      "[02:31:54] WARNING: not removing hydrogen atom without neighbors\n"
     ]
    }
   ],
   "source": [
    "atom_list = []\n",
    "for i, smiles in enumerate(all_smiles[\"smiles\"].values):\n",
    "    # print(each)\n",
    "    molecules=[]\n",
    "    molecules.append(Chem.MolFromSmiles(smiles))\n",
    "    featurizer = dc.feat.graph_features.ConvMolFeaturizer()\n",
    "    mol_object = featurizer.featurize(molecules)\n",
    "    features = mol_object[0].atom_features\n",
    "    atom_list.append(features.shape[0])"
   ]
  },
  {
   "cell_type": "code",
   "execution_count": 43,
   "id": "7abfca12-8df6-4706-959b-5bc3cdac4091",
   "metadata": {},
   "outputs": [],
   "source": [
    "Max_atoms = np.max(atom_list)"
   ]
  },
  {
   "cell_type": "code",
   "execution_count": 44,
   "id": "b14ba50a-013a-42f5-be84-05d053ba6080",
   "metadata": {},
   "outputs": [
    {
     "data": {
      "text/plain": [
       "223"
      ]
     },
     "execution_count": 44,
     "metadata": {},
     "output_type": "execute_result"
    }
   ],
   "source": [
    "Max_atoms"
   ]
  },
  {
   "cell_type": "code",
   "execution_count": 45,
   "id": "405d0740-7df7-4f3c-b390-01a72e88af87",
   "metadata": {},
   "outputs": [],
   "source": [
    "# all_smiles"
   ]
  },
  {
   "cell_type": "code",
   "execution_count": 46,
   "id": "05c2ce11-7632-442c-bcfe-ea2ee642e6d8",
   "metadata": {},
   "outputs": [],
   "source": [
    "israndom = False"
   ]
  },
  {
   "cell_type": "code",
   "execution_count": 47,
   "id": "cd1d6335-039c-42d3-be80-f27f42902e4c",
   "metadata": {},
   "outputs": [
    {
     "name": "stderr",
     "output_type": "stream",
     "text": [
      "[02:31:59] WARNING: not removing hydrogen atom without neighbors\n",
      "[02:31:59] WARNING: not removing hydrogen atom without neighbors\n",
      "[02:31:59] WARNING: not removing hydrogen atom without neighbors\n"
     ]
    }
   ],
   "source": [
    "dict_features = {}\n",
    "# dict_num_atoms = {}\n",
    "dict_adj_mat = {}\n",
    "for i, smiles in enumerate(all_smiles[\"smiles\"].values):\n",
    "    # print(each)\n",
    "    molecules=[]\n",
    "    molecules.append(Chem.MolFromSmiles(smiles))\n",
    "    featurizer = dc.feat.graph_features.ConvMolFeaturizer()\n",
    "    mol_object = featurizer.featurize(molecules)\n",
    "    features = mol_object[0].atom_features\n",
    "    drug_id_cur = all_smiles.iloc[i,:][\"improve_chem_id\"]\n",
    "    adj_list = mol_object[0].canon_adj_list\n",
    "    l = CalculateGraphFeat(features,adj_list, Max_atoms)\n",
    "    # dict_features[str(drug_id_cur)] = features\n",
    "    # degree_list = mol_object[0].deg_list\n",
    "    # degree_list = degree_list.reshape(-1,1)\n",
    "    # dict_num_atoms[str(drug_id_cur)] = degree_list\n",
    "    # padded = np.zeros((100-degree_list, 75))\n",
    "    # features = np.vstack((features, padded))\n",
    "    dict_features[str(drug_id_cur)] = l[0]\n",
    "    dict_adj_mat[str(drug_id_cur)] = l[1]"
   ]
  },
  {
   "cell_type": "code",
   "execution_count": 48,
   "id": "f8270950-eac2-4e1b-bccb-3677b6431abb",
   "metadata": {},
   "outputs": [],
   "source": [
    "# dict_features"
   ]
  },
  {
   "cell_type": "code",
   "execution_count": 49,
   "id": "db3b955a-6d39-460c-bc16-58479622272d",
   "metadata": {},
   "outputs": [],
   "source": [
    "# dict_adj_mat"
   ]
  },
  {
   "cell_type": "code",
   "execution_count": 50,
   "id": "0f41e2ef-8924-4136-82a7-32c682ce5238",
   "metadata": {},
   "outputs": [
    {
     "data": {
      "text/plain": [
       "array(['Drug_0', 'Drug_1', 'Drug_10', ..., 'Drug_997', 'Drug_998',\n",
       "       'Drug_999'], dtype=object)"
      ]
     },
     "execution_count": 50,
     "metadata": {},
     "output_type": "execute_result"
    }
   ],
   "source": [
    "all_smiles[\"improve_chem_id\"].values"
   ]
  },
  {
   "cell_type": "code",
   "execution_count": 51,
   "id": "c9d165c8-2e04-4ac0-9a5d-1bb77d5afa3d",
   "metadata": {},
   "outputs": [
    {
     "data": {
      "text/plain": [
       "85.0"
      ]
     },
     "execution_count": 51,
     "metadata": {},
     "output_type": "execute_result"
    }
   ],
   "source": [
    "dict_features['Drug_10'].sum()"
   ]
  },
  {
   "cell_type": "code",
   "execution_count": 52,
   "id": "b9966083-d69a-465e-b8d1-99b0a032151d",
   "metadata": {},
   "outputs": [],
   "source": [
    "with open(\"csa_data//drug_features.pickle\", \"wb\") as f:\n",
    "    pickle.dump(dict_features, f)"
   ]
  },
  {
   "cell_type": "code",
   "execution_count": 53,
   "id": "763ced39-023f-41a7-8a77-5b08da2f29c1",
   "metadata": {},
   "outputs": [],
   "source": [
    "with open(\"csa_data//norm_adj_mat.pickle\", \"wb\") as f:\n",
    "    pickle.dump(dict_adj_mat, f)"
   ]
  },
  {
   "cell_type": "code",
   "execution_count": 54,
   "id": "f334106f-2acd-4529-904d-435bcf12b207",
   "metadata": {},
   "outputs": [],
   "source": [
    "PPI_file = \"csa_data/PPI/PPI_network.txt\""
   ]
  },
  {
   "cell_type": "code",
   "execution_count": 55,
   "id": "fa5c6395-05bc-4304-a926-b264d3e9430c",
   "metadata": {},
   "outputs": [],
   "source": [
    "# with open(selected_info_common_cell_lines) as f:\n",
    "#     common_cell_lines = [item.strip() for item in f.readlines()]\n",
    "    \n",
    "with open(\"csa_data//tf_common_genes.pickle\", \"rb\") as f:\n",
    "    common_genes = pickle.load(f)\n",
    "    \n",
    "idx_dic={}\n",
    "for index, item in enumerate(common_genes):\n",
    "    idx_dic[item] = index\n",
    "\n",
    "ppi_adj_info = [[] for item in common_genes] \n",
    "for line in open(PPI_file).readlines():\n",
    "    gene1,gene2 = line.split('\\t')[0],line.split('\\t')[1]\n",
    "    if (gene1 in common_genes) & (gene2 in common_genes):\n",
    "        if idx_dic[gene1]<=idx_dic[gene2]:\n",
    "            ppi_adj_info[idx_dic[gene1]].append(idx_dic[gene2])\n",
    "            ppi_adj_info[idx_dic[gene2]].append(idx_dic[gene1])"
   ]
  },
  {
   "cell_type": "code",
   "execution_count": 56,
   "id": "10b6b1fc-4925-4874-b17b-45e10860b44f",
   "metadata": {},
   "outputs": [],
   "source": [
    "# ppi_adj_info.shape"
   ]
  },
  {
   "cell_type": "code",
   "execution_count": 57,
   "id": "7178d8da-8bab-476d-a5c1-640b19af77c7",
   "metadata": {},
   "outputs": [],
   "source": [
    "# common_genes"
   ]
  },
  {
   "cell_type": "code",
   "execution_count": 58,
   "id": "27bc9d86-60ce-41cc-aeb9-7e46ee61077d",
   "metadata": {},
   "outputs": [
    {
     "data": {
      "text/plain": [
       "(683, 1)"
      ]
     },
     "execution_count": 58,
     "metadata": {},
     "output_type": "execute_result"
    }
   ],
   "source": [
    "np.array(df_ge.columns).reshape(-1,1).shape"
   ]
  },
  {
   "cell_type": "code",
   "execution_count": 59,
   "id": "f8abd38a-f15b-44b4-aca0-2fd68e507761",
   "metadata": {},
   "outputs": [
    {
     "data": {
      "text/plain": [
       "(683,)"
      ]
     },
     "execution_count": 59,
     "metadata": {},
     "output_type": "execute_result"
    }
   ],
   "source": [
    "common_genes.shape"
   ]
  },
  {
   "cell_type": "code",
   "execution_count": 60,
   "id": "fa26cd81-3714-47c7-9806-eeaaf49f93cf",
   "metadata": {},
   "outputs": [
    {
     "data": {
      "text/plain": [
       "1.0"
      ]
     },
     "execution_count": 60,
     "metadata": {},
     "output_type": "execute_result"
    }
   ],
   "source": [
    "np.mean(np.array(df_ge.columns).reshape(-1,1) == common_genes.reshape(-1,1))"
   ]
  },
  {
   "cell_type": "code",
   "execution_count": 61,
   "id": "ec6734ac-e882-4101-b50e-a3af9dbc0cc6",
   "metadata": {},
   "outputs": [],
   "source": [
    "def CelllineGraphAdjNorm(ppi_adj_info,common_genes = common_genes):\n",
    "    # with open(selected_info_common_genes) as f:\n",
    "    #     common_genes = [item.strip() for item in f.readlines()]\n",
    "    nb_nodes = len(common_genes)\n",
    "    adj_mat = np.zeros((nb_nodes,nb_nodes),dtype='float32')\n",
    "    # print(adj_mat.shape)\n",
    "    for i in range(len(ppi_adj_info)):\n",
    "        # print(i)\n",
    "        nodes = ppi_adj_info[i]\n",
    "        for each in nodes:\n",
    "            adj_mat[i,each] = 1\n",
    "    assert np.allclose(adj_mat,adj_mat.T)\n",
    "    norm_adj = NormalizeAdj(adj_mat)\n",
    "    return norm_adj "
   ]
  },
  {
   "cell_type": "code",
   "execution_count": 62,
   "id": "b3b25d32-b25a-4a77-8d71-4ff76e2d9e6a",
   "metadata": {},
   "outputs": [],
   "source": [
    "# def NormalizeAdj(adj):\n",
    "#     adj = adj + np.eye(adj.shape[0])\n",
    "#     d = sp.diags(np.power(np.array(adj.sum(1)), -0.5).flatten(), 0).toarray()\n",
    "#     a_norm = adj.dot(d).transpose().dot(d)\n",
    "#     return a_norm"
   ]
  },
  {
   "cell_type": "code",
   "execution_count": 63,
   "id": "7ef78313-1f06-4117-8ed8-93dd9be68365",
   "metadata": {},
   "outputs": [],
   "source": [
    "import scipy.sparse as sp"
   ]
  },
  {
   "cell_type": "code",
   "execution_count": 64,
   "id": "bd195ee7-4161-48e7-8aea-00958b0bf58a",
   "metadata": {},
   "outputs": [],
   "source": [
    "ppi_adj = CelllineGraphAdjNorm(ppi_adj_info,common_genes)"
   ]
  },
  {
   "cell_type": "code",
   "execution_count": 65,
   "id": "b6547b89-5a0a-47db-a7d8-87f6bec2fb23",
   "metadata": {},
   "outputs": [],
   "source": [
    "ppi_adj = np.expand_dims(ppi_adj,0)"
   ]
  },
  {
   "cell_type": "code",
   "execution_count": 66,
   "id": "196b5414-c14e-4903-b85e-8b92cb63d389",
   "metadata": {},
   "outputs": [
    {
     "data": {
      "text/plain": [
       "(1, 683, 683)"
      ]
     },
     "execution_count": 66,
     "metadata": {},
     "output_type": "execute_result"
    }
   ],
   "source": [
    "ppi_adj.shape"
   ]
  },
  {
   "cell_type": "code",
   "execution_count": 67,
   "id": "dcf3ee06-f69b-4f04-a915-396f92f49844",
   "metadata": {},
   "outputs": [],
   "source": [
    "with open(\"csa_data//ppi_adj_matrix.pickle\", \"wb\") as f:\n",
    "    pickle.dump(ppi_adj, f)"
   ]
  },
  {
   "cell_type": "code",
   "execution_count": 68,
   "id": "c2c61ad3-ef40-4421-9835-5e3c93a7d93f",
   "metadata": {},
   "outputs": [],
   "source": [
    "common_achs = list(set(df_ge.index).intersection(df_cnv.index))"
   ]
  },
  {
   "cell_type": "code",
   "execution_count": 69,
   "id": "a408570e-09ba-46e7-afeb-c864de07056c",
   "metadata": {},
   "outputs": [
    {
     "data": {
      "text/plain": [
       "1000"
      ]
     },
     "execution_count": 69,
     "metadata": {},
     "output_type": "execute_result"
    }
   ],
   "source": [
    "len(common_achs)"
   ]
  },
  {
   "cell_type": "code",
   "execution_count": 70,
   "id": "a2f8bca3-1053-478a-9c69-49be7c15cfc4",
   "metadata": {},
   "outputs": [],
   "source": [
    "# common_achs"
   ]
  },
  {
   "cell_type": "code",
   "execution_count": 71,
   "id": "bb94c4aa-9e83-4b39-8da6-6e7b37c6955d",
   "metadata": {},
   "outputs": [],
   "source": [
    "common_ach_gen_expr = cancer_gen_expr_model(np.array(common_achs)).numpy()\n",
    "common_ach_gen_cnv = cancer_gen_cnv_model(np.array(common_achs)).numpy()"
   ]
  },
  {
   "cell_type": "code",
   "execution_count": 72,
   "id": "04692a3e-67a3-4648-9b7d-00d85f3c58f4",
   "metadata": {},
   "outputs": [],
   "source": [
    "common_ach_gen_expr = np.expand_dims(common_ach_gen_expr,-1)\n",
    "common_ach_gen_cnv = np.expand_dims(common_ach_gen_cnv,-1)"
   ]
  },
  {
   "cell_type": "code",
   "execution_count": 73,
   "id": "790a411d-65be-416f-b99c-abca19a81277",
   "metadata": {},
   "outputs": [
    {
     "data": {
      "text/plain": [
       "(1000, 683, 1)"
      ]
     },
     "execution_count": 73,
     "metadata": {},
     "output_type": "execute_result"
    }
   ],
   "source": [
    "common_ach_gen_cnv.shape"
   ]
  },
  {
   "cell_type": "code",
   "execution_count": 74,
   "id": "5f1e1f4d-8a28-4600-9490-1544c592a336",
   "metadata": {},
   "outputs": [],
   "source": [
    "common_ach_gen_expr_cnv = np.concatenate((common_ach_gen_expr, common_ach_gen_cnv), -1)"
   ]
  },
  {
   "cell_type": "code",
   "execution_count": 75,
   "id": "6aa9b7b7-e56c-421f-bcef-571a362877f8",
   "metadata": {},
   "outputs": [
    {
     "data": {
      "text/plain": [
       "(1000, 683, 2)"
      ]
     },
     "execution_count": 75,
     "metadata": {},
     "output_type": "execute_result"
    }
   ],
   "source": [
    "common_ach_gen_expr_cnv.shape"
   ]
  },
  {
   "cell_type": "code",
   "execution_count": 76,
   "id": "1d28e750-9098-4cf1-9667-e587aed9c442",
   "metadata": {},
   "outputs": [],
   "source": [
    "combo_gen_expr_cnv_norm = ppi_adj@common_ach_gen_expr_cnv"
   ]
  },
  {
   "cell_type": "code",
   "execution_count": 77,
   "id": "55a8cf34-1bcc-4d89-9f79-7be392a65be0",
   "metadata": {},
   "outputs": [
    {
     "data": {
      "text/plain": [
       "(1000, 683, 2)"
      ]
     },
     "execution_count": 77,
     "metadata": {},
     "output_type": "execute_result"
    }
   ],
   "source": [
    "combo_gen_expr_cnv_norm.shape"
   ]
  },
  {
   "cell_type": "code",
   "execution_count": 78,
   "id": "552fee97-e3c1-451c-b7d1-12a94c171167",
   "metadata": {},
   "outputs": [],
   "source": [
    "dict1 = {}\n",
    "\n",
    "counter = 0\n",
    "for i in common_achs:\n",
    "    dict1[i] = combo_gen_expr_cnv_norm[counter,:,:]\n",
    "    counter += 1"
   ]
  },
  {
   "cell_type": "code",
   "execution_count": 79,
   "id": "39ca2b90-b08b-4daf-adff-f928eaf7ec7d",
   "metadata": {},
   "outputs": [],
   "source": [
    "# dict1"
   ]
  },
  {
   "cell_type": "code",
   "execution_count": 80,
   "id": "eb452ba8-8ca1-4037-a78b-dcc00f035fc5",
   "metadata": {},
   "outputs": [],
   "source": [
    "with open(\"csa_data//combo_gen_expr_cnv_norm.pickle\", \"wb\") as f:\n",
    "    pickle.dump(dict1, f)"
   ]
  },
  {
   "cell_type": "code",
   "execution_count": 81,
   "id": "6e3cb668-740a-4f3d-9529-1bf7d5f8b00f",
   "metadata": {},
   "outputs": [],
   "source": [
    "# df_ge.sahape"
   ]
  },
  {
   "cell_type": "code",
   "execution_count": 82,
   "id": "cf925872-15fc-4815-85f6-4740fb3d64dd",
   "metadata": {},
   "outputs": [],
   "source": [
    "# df_ge_cnv = np.concatenate([np.expand_dims(df_ge, -1),\n",
    "#                                                       np.expand_dims(omics_gen_expr_train, -1)], axis = -1)"
   ]
  },
  {
   "cell_type": "code",
   "execution_count": 83,
   "id": "50310d83-b8ac-4aec-8ae8-c6502779f33e",
   "metadata": {},
   "outputs": [],
   "source": [
    "# cancer_copy_number_model.layers[1].get_vocabulary()"
   ]
  },
  {
   "cell_type": "code",
   "execution_count": 84,
   "id": "aa66f730-e17f-408d-8831-6b317931627c",
   "metadata": {},
   "outputs": [],
   "source": [
    "## make the normalized adjacency matrix \n",
    "## and the features matrix \n",
    "\n"
   ]
  },
  {
   "cell_type": "code",
   "execution_count": 85,
   "id": "6b24f3e0-30ab-43b8-88ef-c1dfedb95c5a",
   "metadata": {},
   "outputs": [],
   "source": [
    "## then make the gcn features for the "
   ]
  }
 ],
 "metadata": {
  "kernelspec": {
   "display_name": "Python (enkf_gpu)",
   "language": "python",
   "name": "tf_custom_gayara_2"
  },
  "language_info": {
   "codemirror_mode": {
    "name": "ipython",
    "version": 3
   },
   "file_extension": ".py",
   "mimetype": "text/x-python",
   "name": "python",
   "nbconvert_exporter": "python",
   "pygments_lexer": "ipython3",
   "version": "3.9.13"
  }
 },
 "nbformat": 4,
 "nbformat_minor": 5
}
